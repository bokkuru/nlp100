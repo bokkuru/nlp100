{
 "cells": [
  {
   "cell_type": "markdown",
   "metadata": {},
   "source": [
    "## 10"
   ]
  },
  {
   "cell_type": "code",
   "execution_count": 6,
   "metadata": {},
   "outputs": [
    {
     "name": "stdout",
     "output_type": "stream",
     "text": [
      "2740\n"
     ]
    }
   ],
   "source": [
    "count = 0\n",
    "with open('popular-names.txt') as f:\n",
    "    for line in f:\n",
    "        count += 1\n",
    "print(count)"
   ]
  },
  {
   "cell_type": "markdown",
   "metadata": {},
   "source": [
    ">＄ wc -l popular-names.txt <br>\n",
    ">2740 popular-names.txt"
   ]
  },
  {
   "cell_type": "markdown",
   "metadata": {},
   "source": [
    "## 11"
   ]
  },
  {
   "cell_type": "code",
   "execution_count": 17,
   "metadata": {
    "scrolled": true
   },
   "outputs": [
    {
     "name": "stdout",
     "output_type": "stream",
     "text": [
      "Mary F 7065 1880\n",
      "Anna F 2604 1880\n",
      "Emma F 2003 1880\n",
      "Elizabeth F 1939 1880\n",
      "Minnie F 1746 1880\n",
      "Margaret F 1578 1880\n",
      "Ida F 1472 1880\n",
      "Alice F 1414 1880\n",
      "Bertha F 1320 1880\n",
      "Sarah F 1288 1880\n"
     ]
    }
   ],
   "source": [
    "def print_file(fp,n):\n",
    "    with open(fp,'r') as f:\n",
    "        for i in range(n):\n",
    "            print(f.readline(),end=\"\" )\n",
    "\n",
    "with open('popular-names.txt','r') as f,open('change-popular-names.txt','w',newline=\"\\n\") as ch:\n",
    "    for line in f:\n",
    "        ch.write(line.replace('\\t',' '))\n",
    "print_file('change-popular-names.txt',10)"
   ]
  },
  {
   "cell_type": "markdown",
   "metadata": {},
   "source": [
    ">＄ cat popular-names.txt | tr \"\\t\" \" \">test.txt <br>\n",
    ">＄ diff -s change-popular-names.txt test.txt <br>\n",
    ">Files change-popular-names.txt and test.txt are identical"
   ]
  },
  {
   "cell_type": "markdown",
   "metadata": {},
   "source": [
    "## 12"
   ]
  },
  {
   "cell_type": "code",
   "execution_count": 19,
   "metadata": {},
   "outputs": [],
   "source": [
    "with open('popular-names.txt','r') as f,open('col1-popular-names.txt','w',newline=\"\\n\") as ch1,open('col2-popular-names.txt','w',newline=\"\\n\") as ch2:\n",
    "    for line in f:\n",
    "        ch1.write(line.split('\\t')[0]+'\\n')\n",
    "        ch2.write(line.split('\\t')[1]+'\\n')"
   ]
  },
  {
   "cell_type": "markdown",
   "metadata": {},
   "source": [
    ">＄ cut -f 1 -d \" \" change-popular-names.txt > test.txt<br>\n",
    ">＄ diff -s test.txt col1-popular-names.txt<br>\n",
    ">Files test.txt and col1-popular-names.txt are identical<br>\n",
    ">＄ cut -f 2 -d \" \" change-popular-names.txt > test.txt<br>\n",
    ">＄ diff -s test.txt col2-popular-names.txt<br>\n",
    ">Files test.txt and col2-popular-names.txt are identical<br>"
   ]
  },
  {
   "cell_type": "markdown",
   "metadata": {},
   "source": [
    "## 13"
   ]
  },
  {
   "cell_type": "code",
   "execution_count": 21,
   "metadata": {},
   "outputs": [],
   "source": [
    "count=0\n",
    "with open('col1-popular-names.txt','r') as ch1:\n",
    "    for line in ch1:\n",
    "        count+=1\n",
    "with open('col1-popular-names.txt','r') as ch1,\\\n",
    "     open('col2-popular-names.txt','r') as ch2,\\\n",
    "     open('col3-popular-names.txt','w',newline=\"\\n\") as ch3:\n",
    "    for line in range(count):\n",
    "        ch3.write(ch1.readline().replace('\\n','\\t')+ ch2.readline())"
   ]
  },
  {
   "cell_type": "markdown",
   "metadata": {},
   "source": [
    ">＄ paste col1-popular-names.txt col2-popular-names.txt > test.txt<br>\n",
    ">＄ diff -s test.txt col3-popular-names.txt<br>\n",
    ">Files test.txt and col3-popular-names.txt are identical<br>"
   ]
  },
  {
   "cell_type": "markdown",
   "metadata": {},
   "source": [
    "## 14"
   ]
  },
  {
   "cell_type": "code",
   "execution_count": 4,
   "metadata": {},
   "outputs": [
    {
     "name": "stdout",
     "output_type": "stream",
     "text": [
      "Mary\tF\t7065\t1880\n",
      "Anna\tF\t2604\t1880\n"
     ]
    }
   ],
   "source": [
    "def print_line(n):\n",
    "    N=int(n)\n",
    "    with open('popular-names.txt') as f:\n",
    "        for i in range(N):\n",
    "            print(f.readline(),end='')\n",
    "\n",
    "#import sys\n",
    "#args = sys.argv\n",
    "print_line(2)"
   ]
  },
  {
   "cell_type": "markdown",
   "metadata": {},
   "source": [
    ">＄ head -n 2 popular-names.txt<br>\n",
    ">Mary    F       7065    1880<br>\n",
    ">Anna    F       2604    1880<br>"
   ]
  },
  {
   "cell_type": "markdown",
   "metadata": {},
   "source": [
    "## 15"
   ]
  },
  {
   "cell_type": "code",
   "execution_count": 2,
   "metadata": {},
   "outputs": [
    {
     "name": "stdout",
     "output_type": "stream",
     "text": [
      "Elijah\tM\t13764\t2016\n",
      "Ethan\tM\t13758\t2016\n"
     ]
    }
   ],
   "source": [
    "def print_last_line(n):\n",
    "    N=int(n)\n",
    "    count=0\n",
    "    with open('popular-names.txt') as f:\n",
    "        for line in f:\n",
    "            count+=1\n",
    "    with open('popular-names.txt') as f:\n",
    "        for i in range(count):\n",
    "            if i<count-N:\n",
    "                f.readline()\n",
    "            else:\n",
    "                print(f.readline(),end='')\n",
    "\n",
    "\n",
    "#import sys\n",
    "#args = sys.argv\n",
    "print_last_line(2)"
   ]
  },
  {
   "cell_type": "markdown",
   "metadata": {},
   "source": [
    ">＄ tail -n 2 popular-names.txt<br>\n",
    ">Elijah  M       13764   2016<br>\n",
    ">Ethan   M       13758   2016<br>"
   ]
  },
  {
   "cell_type": "markdown",
   "metadata": {},
   "source": [
    "## 16"
   ]
  },
  {
   "cell_type": "code",
   "execution_count": 24,
   "metadata": {},
   "outputs": [],
   "source": [
    "def dev_setntence(n):\n",
    "    N=int(n)\n",
    "    count=0\n",
    "    with open('popular-names.txt') as f:\n",
    "        for line in f:\n",
    "            count+=1\n",
    "    with open('popular-names.txt') as f:\n",
    "        for i in range(N-1):\n",
    "            with open('dev'+str(i+1)+'-popular-names.txt','w',newline=\"\\n\") as d:\n",
    "                for line in range(count//N):\n",
    "                    d.write(f.readline())\n",
    "        with open('dev'+str(N)+'-popular-names.txt','w',newline=\"\\n\") as d:\n",
    "            for line in f:\n",
    "                d.write(line)\n",
    "\n",
    "\n",
    "# import sys\n",
    "# args = sys.argv\n",
    "dev_setntence(3)"
   ]
  },
  {
   "cell_type": "markdown",
   "metadata": {},
   "source": [
    ">＄ split -n l/3 popular-names.txt"
   ]
  },
  {
   "cell_type": "markdown",
   "metadata": {},
   "source": [
    "## 17"
   ]
  },
  {
   "cell_type": "code",
   "execution_count": 31,
   "metadata": {
    "scrolled": false
   },
   "outputs": [],
   "source": [
    "names = []\n",
    "with open('popular-names.txt') as f:\n",
    "    for line in f:\n",
    "        names.append(line.split('\\t')[0])\n",
    "names=sorted(set(names))\n",
    "with open('names.txt','w',newline=\"\\n\") as f:\n",
    "    for name in names:\n",
    "        f.write(name+\"\\n\")"
   ]
  },
  {
   "cell_type": "markdown",
   "metadata": {},
   "source": [
    ">＄ cut -f 1 -d \" \" change-popular-names.txt | sort |uniq >test.txt<br>\n",
    ">＄ diff -s test.txt names.txt<br>\n",
    ">Files test.txt and names.txt are identical"
   ]
  },
  {
   "cell_type": "markdown",
   "metadata": {},
   "source": [
    "## 18"
   ]
  },
  {
   "cell_type": "code",
   "execution_count": 11,
   "metadata": {},
   "outputs": [],
   "source": [
    "li = []\n",
    "with open('popular-names.txt') as f,\\\n",
    "     open('sort3-popular-names.txt','w',newline=\"\\n\") as s:\n",
    "    for line in f:\n",
    "        li.append(line)\n",
    "    li=sorted(li,key=lambda x: int(x.split('\\t')[2]),reverse=True)\n",
    "    for line in li:\n",
    "        s.write(line)"
   ]
  },
  {
   "cell_type": "markdown",
   "metadata": {},
   "source": [
    ">＄ sort -n -r -k 3 popular-names.txt >test.txt"
   ]
  },
  {
   "cell_type": "markdown",
   "metadata": {},
   "source": [
    "## 19"
   ]
  },
  {
   "cell_type": "code",
   "execution_count": 42,
   "metadata": {},
   "outputs": [
    {
     "name": "stdout",
     "output_type": "stream",
     "text": [
      "('James', 116)\n",
      "('William', 109)\n",
      "('John', 108)\n",
      "('Robert', 108)\n",
      "('Mary', 92)\n",
      "('Charles', 75)\n",
      "('Michael', 74)\n",
      "('Elizabeth', 73)\n",
      "('Joseph', 71)\n",
      "('Margaret', 60)\n"
     ]
    }
   ],
   "source": [
    "dic = {}\n",
    "with open('popular-names.txt') as f:\n",
    "    for line in f:\n",
    "        dic.setdefault(line.split('\\t')[0],0)\n",
    "        dic[line.split('\\t')[0]]+=1\n",
    "line=dic.items()\n",
    "line=sorted(line,key=lambda x: x[1],reverse=True)\n",
    "for ans in line[:10]:\n",
    "    print(ans)"
   ]
  },
  {
   "cell_type": "markdown",
   "metadata": {},
   "source": [
    ">＄ cut -f 1 -d \" \" change-popular-names.txt | sort | uniq -c| sort -n -r -k 1 | head<br>\n",
    ">    116 James<br>\n",
    ">    109 William<br>\n",
    ">    108 Robert<br>\n",
    ">    108 John<br>\n",
    ">     92 Mary<br>\n",
    ">     75 Charles<br>\n",
    ">     74 Michael<br>\n",
    ">     73 Elizabeth<br>\n",
    ">     71 Joseph<br>\n",
    ">     60 Margaret"
   ]
  }
 ],
 "metadata": {
  "kernelspec": {
   "display_name": "Python 3",
   "language": "python",
   "name": "python3"
  },
  "language_info": {
   "codemirror_mode": {
    "name": "ipython",
    "version": 3
   },
   "file_extension": ".py",
   "mimetype": "text/x-python",
   "name": "python",
   "nbconvert_exporter": "python",
   "pygments_lexer": "ipython3",
   "version": "3.7.4"
  }
 },
 "nbformat": 4,
 "nbformat_minor": 4
}
