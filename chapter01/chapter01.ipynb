{
 "cells": [
  {
   "cell_type": "markdown",
   "metadata": {},
   "source": [
    "## 00.文字列の逆順"
   ]
  },
  {
   "cell_type": "code",
   "execution_count": 1,
   "metadata": {},
   "outputs": [
    {
     "name": "stdout",
     "output_type": "stream",
     "text": [
      "desserts\n"
     ]
    }
   ],
   "source": [
    "s='stressed'\n",
    "print(s[::-1])"
   ]
  },
  {
   "cell_type": "markdown",
   "metadata": {},
   "source": [
    "## 01.「パタトクカシーー」"
   ]
  },
  {
   "cell_type": "code",
   "execution_count": 2,
   "metadata": {},
   "outputs": [
    {
     "name": "stdout",
     "output_type": "stream",
     "text": [
      "パトカー\n"
     ]
    }
   ],
   "source": [
    "s='パタトクカシーー'\n",
    "print(s[0]+s[2]+s[4]+s[6])"
   ]
  },
  {
   "cell_type": "markdown",
   "metadata": {},
   "source": [
    "## 02.「パトカー」＋「タクシー」＝「パタトクカシーー」"
   ]
  },
  {
   "cell_type": "code",
   "execution_count": null,
   "metadata": {},
   "outputs": [],
   "source": [
    "s1='パトカー'\n",
    "s2='タクシー'\n",
    "s3=''\n",
    "for i in range(4):\n",
    "    s3=s3+s1[i]+s2[i]\n",
    "print(s3)"
   ]
  },
  {
   "cell_type": "markdown",
   "metadata": {},
   "source": [
    "## 03.円周率"
   ]
  },
  {
   "cell_type": "code",
   "execution_count": 9,
   "metadata": {},
   "outputs": [
    {
     "name": "stdout",
     "output_type": "stream",
     "text": [
      "[3, 1, 4, 1, 5, 9, 2, 6, 5, 3, 5, 8, 9, 7, 10]\n"
     ]
    }
   ],
   "source": [
    "s='Now I need a drink, alcoholic of course, after the heavy lectures involving quantum mechanics.'\n",
    "li=s.split(' ')\n",
    "ans=[]\n",
    "for word in li:\n",
    "    ans.append(len(word.strip(',')))\n",
    "print(ans)"
   ]
  },
  {
   "cell_type": "markdown",
   "metadata": {},
   "source": [
    "## 04.元素記号"
   ]
  },
  {
   "cell_type": "code",
   "execution_count": 10,
   "metadata": {},
   "outputs": [
    {
     "name": "stdout",
     "output_type": "stream",
     "text": [
      "{'H': 1, 'He': 2, 'Li': 3, 'Be': 4, 'B': 5, 'C': 6, 'N': 7, 'O': 8, 'F': 9, 'Ne': 10, 'Na': 11, 'Mi': 12, 'Al': 13, 'Si': 14, 'P': 15, 'S': 16, 'Cl': 17, 'Ar': 18, 'K': 19, 'Ca': 20}\n"
     ]
    }
   ],
   "source": [
    "s='Hi He Lied Because Boron Could Not Oxidize Fluorine. New Nations Might Also Sign Peace Security Clause. Arthur King Can.'\n",
    "li=s.split(' ')\n",
    "ans={}\n",
    "count=1\n",
    "for word in li:\n",
    "    if count==1 or count==5 or count==6 or count==7 or count==8 or count==9 or count==15 or count==16 or count==19:\n",
    "        ans.setdefault(word[0],count)\n",
    "    else:\n",
    "        ans.setdefault(word[0:2],count)\n",
    "    count+=1\n",
    "print(ans)"
   ]
  },
  {
   "cell_type": "markdown",
   "metadata": {},
   "source": [
    "## 05.n-gram"
   ]
  },
  {
   "cell_type": "code",
   "execution_count": 13,
   "metadata": {
    "scrolled": true
   },
   "outputs": [
    {
     "name": "stdout",
     "output_type": "stream",
     "text": [
      "['I am', 'am an', 'an NLPer']\n",
      "['Ia', 'am', 'ma', 'an', 'nN', 'NL', 'LP', 'Pe', 'er']\n"
     ]
    }
   ],
   "source": [
    "import sys\n",
    "\n",
    "\n",
    "# n:int  sentence:str,list  mode:\"w\"\"l\"で単語か文字か選択\n",
    "def n_gram(n,sentence,mode):\n",
    "    ng = []\n",
    "    if mode == 'w': #単語\n",
    "        if type(sentence) is str:\n",
    "            sentence=sentence.split(' ')\n",
    "        if type(sentence) is list:\n",
    "            for i in range(len(sentence)-n+1):\n",
    "                tmp=\"\"\n",
    "                for j in range(n):\n",
    "                    tmp+=sentence[i+j]+' '\n",
    "                ng.append(tmp.strip())\n",
    "        else:\n",
    "            print(\"sentence must be str or list\")\n",
    "    elif mode == 'l': #文字\n",
    "        if type(sentence) is str:\n",
    "            sentence=sentence.replace(\" \",\"\") #単語間の空白は除く？\n",
    "        if type(sentence) in [str,list]:\n",
    "            for i in range(len(sentence)-n+1):\n",
    "                tmp=\"\"\n",
    "                for j in range(n):\n",
    "                    tmp+=sentence[i+j]\n",
    "                ng.append(tmp.strip())\n",
    "        else:\n",
    "            print(\"sentence must be str or list\")\n",
    "    else: #モード間違い\n",
    "        print(\"mode is not found\\n\")\n",
    "    return ng\n",
    "\n",
    "\n",
    "args = sys.argv\n",
    "sentence = \"I am an NLPer\"\n",
    "sentence2 = [\"I\",\"am\",\"an\",\"NLPer\"]\n",
    "n=2\n",
    "print(n_gram(n,sentence,\"w\"))\n",
    "print(n_gram(n,sentence,\"l\"))"
   ]
  },
  {
   "cell_type": "markdown",
   "metadata": {},
   "source": [
    "## 06.集合"
   ]
  },
  {
   "cell_type": "code",
   "execution_count": 19,
   "metadata": {},
   "outputs": [
    {
     "name": "stdout",
     "output_type": "stream",
     "text": [
      "add_list:{'ap', 'ra', 'pa', 'di', 'se', 'ph', 'is', 'ag', 'ar', 'ad', 'gr'}\n",
      "product_list:{'ap', 'ra', 'pa', 'ar'}\n",
      "diff_list:{'is', 'ad', 'di', 'se'}\n",
      "diff_list2:{'ag', 'gr', 'ph'}\n",
      "X: True\n",
      "Y: False\n"
     ]
    }
   ],
   "source": [
    "sentence=\"paraparaparadise\"\n",
    "sentence2=\"paragraph\"\n",
    "X=set(n_gram(2,sentence,\"l\"))\n",
    "Y=set(n_gram(2,sentence2,\"l\"))\n",
    "add_list= X|Y\n",
    "product_list = X&Y\n",
    "diff_list = X-Y\n",
    "diff_list2 = Y-X\n",
    "print(\"add_list:\"+str(add_list))\n",
    "print(\"product_list:\"+str(product_list))\n",
    "print(\"diff_list:\"+str(diff_list))\n",
    "print(\"diff_list2:\"+str(diff_list2))\n",
    "print('X:',\"se\" in X)\n",
    "print('Y:',\"se\" in Y)"
   ]
  },
  {
   "cell_type": "markdown",
   "metadata": {},
   "source": [
    "## 07.テンプレートによる文生成"
   ]
  },
  {
   "cell_type": "code",
   "execution_count": 21,
   "metadata": {},
   "outputs": [
    {
     "name": "stdout",
     "output_type": "stream",
     "text": [
      "12時の気温は22.4\n"
     ]
    }
   ],
   "source": [
    "def create_sentence(x,y,z):\n",
    "    return x+\"時の\"+y+\"は\"+z\\\n",
    "\n",
    "\n",
    "x='12'\n",
    "y='気温'\n",
    "z='22.4'\n",
    "print(create_sentence(x,y,z))"
   ]
  },
  {
   "cell_type": "markdown",
   "metadata": {},
   "source": [
    "## 08.暗号文"
   ]
  },
  {
   "cell_type": "code",
   "execution_count": 22,
   "metadata": {},
   "outputs": [
    {
     "name": "stdout",
     "output_type": "stream",
     "text": [
      "zyBxC\n",
      "abBcC\n"
     ]
    }
   ],
   "source": [
    "def cipher(sentence):\n",
    "    ans=\"\"\n",
    "    for i in range(len(sentence)):\n",
    "        if \"a\".encode('utf-8')<=sentence[i].encode('utf-8')<= \"z\".encode('utf-8'):\n",
    "            tmp=219-int.from_bytes(sentence[i].encode('utf-8'),'big')\n",
    "            ans+=tmp.to_bytes(1,'big').decode('utf-8')\n",
    "        else:\n",
    "            ans+=sentence[i]\n",
    "    return ans\n",
    "\n",
    "\n",
    "sentence=\"abBcC\"\n",
    "sentence=cipher(sentence)\n",
    "print(sentence)\n",
    "sentence=cipher(sentence)\n",
    "print(sentence)"
   ]
  },
  {
   "cell_type": "markdown",
   "metadata": {},
   "source": [
    "## 09.Typoglycemia"
   ]
  },
  {
   "cell_type": "code",
   "execution_count": 23,
   "metadata": {},
   "outputs": [
    {
     "name": "stdout",
     "output_type": "stream",
     "text": [
      " I cdno’ult belveie that I could alclauty utrdannsed what I was rndeiag : the pnneomhael pweor of the hamun mind . \n"
     ]
    }
   ],
   "source": [
    "import random\n",
    "\n",
    "\n",
    "def random_sentence(sentence):\n",
    "    sentence_list=sentence.split(' ')\n",
    "    ans=\" \"\n",
    "    for word in sentence_list:\n",
    "        word_len=len(word)\n",
    "        if 4 < word_len:\n",
    "            word_list=list(word)\n",
    "            for i in range(1,word_len-1):\n",
    "                rand_int=random.randint(1,word_len-2)\n",
    "                tmp=word_list[i]\n",
    "                word_list[i]=word_list[rand_int]\n",
    "                word_list[rand_int]=tmp\n",
    "            word=\"\".join(word_list)\n",
    "        ans+=word+\" \"\n",
    "    return ans\n",
    "\n",
    "\n",
    "sentence=\"I couldn’t believe that I could actually understand what I was reading : the phenomenal power of the human mind .\"\n",
    "sentence=random_sentence(sentence)\n",
    "print(sentence)"
   ]
  }
 ],
 "metadata": {
  "kernelspec": {
   "display_name": "Python 3",
   "language": "python",
   "name": "python3"
  },
  "language_info": {
   "codemirror_mode": {
    "name": "ipython",
    "version": 3
   },
   "file_extension": ".py",
   "mimetype": "text/x-python",
   "name": "python",
   "nbconvert_exporter": "python",
   "pygments_lexer": "ipython3",
   "version": "3.7.4"
  }
 },
 "nbformat": 4,
 "nbformat_minor": 4
}
