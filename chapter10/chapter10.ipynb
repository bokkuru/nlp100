{
 "cells": [
  {
   "cell_type": "markdown",
   "metadata": {},
   "source": [
    "# 問題90"
   ]
  },
  {
   "cell_type": "code",
   "execution_count": 6,
   "metadata": {},
   "outputs": [],
   "source": [
    "%%bash\n",
    "module purge \n",
    "module load python/3.8.3\n",
    "module load intel cuda openmpi\n",
    "module load gcc/8.3.0"
   ]
  },
  {
   "cell_type": "code",
   "execution_count": null,
   "metadata": {},
   "outputs": [],
   "source": [
    "%%bash\n",
    "python3 -m pip install --upgrade pip"
   ]
  },
  {
   "cell_type": "code",
   "execution_count": 3,
   "metadata": {},
   "outputs": [],
   "source": [
    "drive_ch10=\"/home/8/17B07865/t3workspace/100nock/ch10\""
   ]
  },
  {
   "cell_type": "markdown",
   "metadata": {},
   "source": [
    "## 日本語の形態素解析"
   ]
  },
  {
   "cell_type": "code",
   "execution_count": null,
   "metadata": {},
   "outputs": [],
   "source": [
    "%%bash\n",
    "python3 -m pip install --user wheel\n",
    "python3 -m pip install --user ginza"
   ]
  },
  {
   "cell_type": "code",
   "execution_count": 19,
   "metadata": {},
   "outputs": [
    {
     "name": "stdout",
     "output_type": "stream",
     "text": [
      "/apps/t3/sles12sp2/free/gcc/8.3.0/bin:/apps/t3/sles12sp4/free/openmpi/3.1.4-opa10.10.0.0.445/intel19.1/cuda10.2/bin:/apps/t3/sles12sp2/cuda/10.2.89/bin:/apps/t3/sles12sp2/isv/intel/compilers_and_libraries_2020.0.166/linux/bin/intel64:/apps/t3/sles12sp4/free/python/3.8.3/gcc4.8.5/bin:/apps/t3/sles12sp2/uge/latest/bin/lx-amd64:/apps/t3/sles12sp4/free/jupyterlab/2.1.0/gcc4.8.5/bin:/scr/7680331.1.interactive:/usr/local/bin:/bin:/usr/bin\n"
     ]
    }
   ],
   "source": [
    "!echo $PATH"
   ]
  },
  {
   "cell_type": "code",
   "execution_count": 15,
   "metadata": {},
   "outputs": [
    {
     "name": "stdout",
     "output_type": "stream",
     "text": [
      "Package            Version\n",
      "------------------ ---------\n",
      "argon2-cffi        20.1.0\n",
      "attrs              19.3.0\n",
      "backcall           0.2.0\n",
      "bleach             3.1.5\n",
      "cffi               1.14.1\n",
      "Cython             0.29.21\n",
      "decorator          4.4.2\n",
      "defusedxml         0.6.0\n",
      "entrypoints        0.3\n",
      "fairseq            0.9.0\n",
      "future             0.18.2\n",
      "ipykernel          5.3.4\n",
      "ipython            7.17.0\n",
      "ipython-genutils   0.2.0\n",
      "ipywidgets         7.5.1\n",
      "jedi               0.17.2\n",
      "Jinja2             2.11.2\n",
      "jsonschema         3.2.0\n",
      "jupyter            1.0.0\n",
      "jupyter-client     6.1.6\n",
      "jupyter-console    6.1.0\n",
      "jupyter-core       4.6.3\n",
      "MarkupSafe         1.1.1\n",
      "mecab-python3      0.996.5\n",
      "mistune            0.8.4\n",
      "nbconvert          5.6.1\n",
      "nbformat           5.0.7\n",
      "notebook           6.1.1\n",
      "numpy              1.19.1\n",
      "packaging          20.4\n",
      "pandocfilters      1.4.2\n",
      "parso              0.7.1\n",
      "pexpect            4.8.0\n",
      "pickleshare        0.7.5\n",
      "pip                20.2\n",
      "portalocker        1.7.1\n",
      "prometheus-client  0.8.0\n",
      "prompt-toolkit     3.0.5\n",
      "ptyprocess         0.6.0\n",
      "pycparser          2.20\n",
      "Pygments           2.6.1\n",
      "pyparsing          2.4.7\n",
      "pyrsistent         0.16.0\n",
      "python-dateutil    2.8.1\n",
      "pyzmq              19.0.2\n",
      "qtconsole          4.7.5\n",
      "QtPy               1.9.0\n",
      "regex              2020.7.14\n",
      "sacrebleu          1.4.12\n",
      "Send2Trash         1.5.0\n",
      "six                1.15.0\n",
      "terminado          0.8.3\n",
      "testpath           0.4.4\n",
      "torch              1.6.0\n",
      "tornado            6.0.4\n",
      "tqdm               4.48.0\n",
      "traitlets          4.3.3\n",
      "wcwidth            0.2.5\n",
      "webencodings       0.5.1\n",
      "widgetsnbextension 3.5.1\n",
      "\u001b[33mWARNING: You are using pip version 20.2; however, version 20.2.1 is available.\n",
      "You should consider upgrading via the '/apps/t3/sles12sp4/free/python/3.8.3/gcc4.8.5/bin/python3.8 -m pip install --upgrade pip' command.\u001b[0m\n"
     ]
    }
   ],
   "source": [
    "!pip list --user"
   ]
  },
  {
   "cell_type": "code",
   "execution_count": 16,
   "metadata": {},
   "outputs": [
    {
     "name": "stdout",
     "output_type": "stream",
     "text": [
      "/bin/sh: fairseq-preprocess: command not found\n"
     ]
    }
   ],
   "source": [
    "!fairseq-preprocess"
   ]
  },
  {
   "cell_type": "code",
   "execution_count": 10,
   "metadata": {},
   "outputs": [],
   "source": [
    "! cat \"{drive_ch10+'/orig/kyoto-train.ja'}\" | sed 's/\\s+/ /g' | /home/8/17B07865/.local/bin/ginzame > \"{drive_ch10+'/train.ginza.ja'}\""
   ]
  },
  {
   "cell_type": "code",
   "execution_count": 11,
   "metadata": {},
   "outputs": [],
   "source": [
    "! cat \"{drive_ch10+'/orig/kyoto-dev.ja'}\" | sed 's/\\s+/ /g' | /home/8/17B07865/.local/bin/ginzame > \"{drive_ch10+'/dev.ginza.ja'}\""
   ]
  },
  {
   "cell_type": "code",
   "execution_count": 12,
   "metadata": {},
   "outputs": [],
   "source": [
    "! cat \"{drive_ch10+'/orig/kyoto-test.ja'}\" | sed 's/\\s+/ /g' | /home/8/17B07865/.local/bin/ginzame > \"{drive_ch10+'/test.ginza.ja'}\""
   ]
  },
  {
   "cell_type": "code",
   "execution_count": 13,
   "metadata": {},
   "outputs": [
    {
     "name": "stdout",
     "output_type": "stream",
     "text": [
      "雪舟\t名詞,固有名詞,人名,一般,*,*,雪舟,セッシュウ,*\n",
      "（\t補助記号,括弧開,*,*,*,*,（,キゴウ,*\n",
      "せっ\t名詞,固有名詞,人名,一般,*,*,せっ,セッ,*\n",
      "しゅう\t名詞,固有名詞,人名,名,*,*,しゅう,シュウ,*\n",
      "、\t補助記号,読点,*,*,*,*,、,、,*\n",
      "1420\t名詞,数詞,*,*,*,*,1420,イチヨンニレイ,*\n",
      "年\t名詞,普通名詞,助数詞可能,*,*,*,年,ネン,*\n",
      "（\t補助記号,括弧開,*,*,*,*,（,キゴウ,*\n",
      "応永\t名詞,固有名詞,一般,*,*,*,応永,オウエイ,*\n",
      "27\t名詞,数詞,*,*,*,*,27,ニシチ,*\n"
     ]
    }
   ],
   "source": [
    "! head \"{drive_ch10+'/train.ginza.ja'}\""
   ]
  },
  {
   "cell_type": "markdown",
   "metadata": {},
   "source": [
    "## 形態素にする"
   ]
  },
  {
   "cell_type": "code",
   "execution_count": 14,
   "metadata": {},
   "outputs": [],
   "source": [
    "def morpheme_ja(input_file, output_file):\n",
    "  with open(output_file,\"w\") as f:\n",
    "    f.write(\"\")\n",
    "  with open(input_file,\"r\") as input_f,open(output_file,mode=\"a\") as output_f:\n",
    "    output_sentence=\"\"\n",
    "    line=input_f.readline()\n",
    "    while line:\n",
    "      if line.strip()==\"EOS\":\n",
    "        output_f.write(output_sentence)\n",
    "        output_sentence=\"\"\n",
    "      else:\n",
    "        output_sentence+=line.split(\"\\t\")[0]+\" \"\n",
    "      line=input_f.readline()"
   ]
  },
  {
   "cell_type": "code",
   "execution_count": 15,
   "metadata": {},
   "outputs": [],
   "source": [
    "morpheme_ja(drive_ch10+\"/train.ginza.ja\",drive_ch10+\"/train_spacy.ja\")\n",
    "morpheme_ja(drive_ch10+\"/dev.ginza.ja\",drive_ch10+\"/dev_spacy.ja\")\n",
    "morpheme_ja(drive_ch10+\"/test.ginza.ja\",drive_ch10+\"/test_spacy.ja\")"
   ]
  },
  {
   "cell_type": "code",
   "execution_count": 16,
   "metadata": {},
   "outputs": [
    {
     "name": "stdout",
     "output_type": "stream",
     "text": [
      "雪舟 （ せっ しゅう 、 1420 年 （ 応永 27 年 ） - 1506 年 （ 永正 3 年 ） ） は 号 で 、 15 世紀 後半 室町 時代 に 活躍 し た 水墨 画家 ・ 禅僧 で 、 画聖 と も 称え られる 。 \n",
      " 日本 の 水墨画 を 一変 さ せ た 。 \n",
      " 諱 は 「 等楊 （ とう よう ） 」 、 もしくは 「 拙 宗 （ せっ しゅう ） 」 と 号し た 。 \n",
      " 備中 国 に 生まれ 、 京都 ・ 相国 寺 に 入っ て から 周防 国 に 移る 。 \n",
      " その 後 遣明 使 に 随行 し て 中国 （ 明 ） に 渡っ て 中国 の 水墨画 を 学ん だ 。 \n",
      " 作品 は 数多く 、 中国 風 の 山水画 だけ で なく 人物画 や 花鳥画 も よく し た 。 \n",
      " 大胆 な 構図 と 力強い 筆線 は 非常 に 個性的 な 画風 を 作り出し て いる 。 \n",
      " 現存 する 作品 の うち 6 点 が 国宝 に 指定 さ れ て おり 、 日本 の 画家 の なか で も 別格 の 評価 を 受け て いる と いえる 。 \n",
      " この ため 、 花鳥 図 屏風 など に 「 伝 雪舟 筆 」 さ れる 作品 は 大変 多い 。 \n",
      " 真筆 で ある か 専門家 の 間 で も 意見 の 分かれる もの も 多々 ある 。 \n"
     ]
    }
   ],
   "source": [
    "! head \"{drive_ch10+'/train_spacy.ja'}\""
   ]
  },
  {
   "cell_type": "markdown",
   "metadata": {},
   "source": [
    "## 英語の単語分割"
   ]
  },
  {
   "cell_type": "code",
   "execution_count": 26,
   "metadata": {},
   "outputs": [
    {
     "name": "stdout",
     "output_type": "stream",
     "text": [
      "Defaulting to user installation because normal site-packages is not writeable\n",
      "Collecting en_core_web_sm==2.3.1\n",
      "  Downloading https://github.com/explosion/spacy-models/releases/download/en_core_web_sm-2.3.1/en_core_web_sm-2.3.1.tar.gz (12.0 MB)\n",
      "Requirement already satisfied: spacy<2.4.0,>=2.3.0 in /home/8/17B07865/.local/lib/python3.6/site-packages (from en_core_web_sm==2.3.1) (2.3.2)\n",
      "Requirement already satisfied: wasabi<1.1.0,>=0.4.0 in /home/8/17B07865/.local/lib/python3.6/site-packages (from spacy<2.4.0,>=2.3.0->en_core_web_sm==2.3.1) (0.7.1)\n",
      "Requirement already satisfied: plac<1.2.0,>=0.9.6 in /home/8/17B07865/.local/lib/python3.6/site-packages (from spacy<2.4.0,>=2.3.0->en_core_web_sm==2.3.1) (1.1.3)\n",
      "Requirement already satisfied: catalogue<1.1.0,>=0.0.7 in /home/8/17B07865/.local/lib/python3.6/site-packages (from spacy<2.4.0,>=2.3.0->en_core_web_sm==2.3.1) (1.0.0)\n",
      "Requirement already satisfied: blis<0.5.0,>=0.4.0 in /home/8/17B07865/.local/lib/python3.6/site-packages (from spacy<2.4.0,>=2.3.0->en_core_web_sm==2.3.1) (0.4.1)\n",
      "Requirement already satisfied: thinc==7.4.1 in /home/8/17B07865/.local/lib/python3.6/site-packages (from spacy<2.4.0,>=2.3.0->en_core_web_sm==2.3.1) (7.4.1)\n",
      "Requirement already satisfied: requests<3.0.0,>=2.13.0 in /apps/t3/sles12sp4/free/jupyterlab/2.1.0/gcc4.8.5/lib/python3.6/site-packages (from spacy<2.4.0,>=2.3.0->en_core_web_sm==2.3.1) (2.23.0)\n",
      "Requirement already satisfied: preshed<3.1.0,>=3.0.2 in /home/8/17B07865/.local/lib/python3.6/site-packages (from spacy<2.4.0,>=2.3.0->en_core_web_sm==2.3.1) (3.0.2)\n",
      "Requirement already satisfied: setuptools in /apps/t3/sles12sp4/free/jupyterlab/2.1.0/gcc4.8.5/lib/python3.6/site-packages (from spacy<2.4.0,>=2.3.0->en_core_web_sm==2.3.1) (39.0.1)\n",
      "Requirement already satisfied: srsly<1.1.0,>=1.0.2 in /home/8/17B07865/.local/lib/python3.6/site-packages (from spacy<2.4.0,>=2.3.0->en_core_web_sm==2.3.1) (1.0.2)\n",
      "Requirement already satisfied: murmurhash<1.1.0,>=0.28.0 in /home/8/17B07865/.local/lib/python3.6/site-packages (from spacy<2.4.0,>=2.3.0->en_core_web_sm==2.3.1) (1.0.2)\n",
      "Requirement already satisfied: tqdm<5.0.0,>=4.38.0 in /home/8/17B07865/.local/lib/python3.6/site-packages (from spacy<2.4.0,>=2.3.0->en_core_web_sm==2.3.1) (4.48.0)\n",
      "Requirement already satisfied: numpy>=1.15.0 in /home/8/17B07865/.local/lib/python3.6/site-packages (from spacy<2.4.0,>=2.3.0->en_core_web_sm==2.3.1) (1.19.1)\n",
      "Requirement already satisfied: cymem<2.1.0,>=2.0.2 in /home/8/17B07865/.local/lib/python3.6/site-packages (from spacy<2.4.0,>=2.3.0->en_core_web_sm==2.3.1) (2.0.3)\n",
      "Requirement already satisfied: importlib-metadata>=0.20; python_version < \"3.8\" in /apps/t3/sles12sp4/free/jupyterlab/2.1.0/gcc4.8.5/lib/python3.6/site-packages (from catalogue<1.1.0,>=0.0.7->spacy<2.4.0,>=2.3.0->en_core_web_sm==2.3.1) (1.6.0)\n",
      "Requirement already satisfied: idna<3,>=2.5 in /apps/t3/sles12sp4/free/jupyterlab/2.1.0/gcc4.8.5/lib/python3.6/site-packages (from requests<3.0.0,>=2.13.0->spacy<2.4.0,>=2.3.0->en_core_web_sm==2.3.1) (2.9)\n",
      "Requirement already satisfied: chardet<4,>=3.0.2 in /apps/t3/sles12sp4/free/jupyterlab/2.1.0/gcc4.8.5/lib/python3.6/site-packages (from requests<3.0.0,>=2.13.0->spacy<2.4.0,>=2.3.0->en_core_web_sm==2.3.1) (3.0.4)\n",
      "Requirement already satisfied: urllib3!=1.25.0,!=1.25.1,<1.26,>=1.21.1 in /apps/t3/sles12sp4/free/jupyterlab/2.1.0/gcc4.8.5/lib/python3.6/site-packages (from requests<3.0.0,>=2.13.0->spacy<2.4.0,>=2.3.0->en_core_web_sm==2.3.1) (1.25.9)\n",
      "Requirement already satisfied: certifi>=2017.4.17 in /apps/t3/sles12sp4/free/jupyterlab/2.1.0/gcc4.8.5/lib/python3.6/site-packages (from requests<3.0.0,>=2.13.0->spacy<2.4.0,>=2.3.0->en_core_web_sm==2.3.1) (2020.4.5.1)\n",
      "Requirement already satisfied: zipp>=0.5 in /apps/t3/sles12sp4/free/jupyterlab/2.1.0/gcc4.8.5/lib/python3.6/site-packages (from importlib-metadata>=0.20; python_version < \"3.8\"->catalogue<1.1.0,>=0.0.7->spacy<2.4.0,>=2.3.0->en_core_web_sm==2.3.1) (3.1.0)\n",
      "Building wheels for collected packages: en-core-web-sm\n",
      "  Building wheel for en-core-web-sm (setup.py): started\n",
      "  Building wheel for en-core-web-sm (setup.py): finished with status 'done'\n",
      "  Created wheel for en-core-web-sm: filename=en_core_web_sm-2.3.1-py3-none-any.whl size=12047105 sha256=3d9ea3e5ba31be31b639106af6dfa58e03ebf0a6169dd6ec968227aa6a7fab8d\n",
      "  Stored in directory: /scr/7608103.1.interactive/pip-ephem-wheel-cache-tzxuygv4/wheels/10/6f/a6/ddd8204ceecdedddea923f8514e13afb0c1f0f556d2c9c3da0\n",
      "Successfully built en-core-web-sm\n",
      "Installing collected packages: en-core-web-sm\n",
      "Successfully installed en-core-web-sm-2.3.1\n",
      "\u001b[38;5;2m✔ Download and installation successful\u001b[0m\n",
      "You can now load the model via spacy.load('en_core_web_sm')\n",
      "\u001b[38;5;2m✔ Linking successful\u001b[0m\n",
      "/home/8/17B07865/.local/lib/python3.6/site-packages/en_core_web_sm -->\n",
      "/home/8/17B07865/.local/lib/python3.6/site-packages/spacy/data/en\n",
      "You can now load the model via spacy.load('en')\n"
     ]
    }
   ],
   "source": [
    "%%bash\n",
    "python3 -m spacy download en"
   ]
  },
  {
   "cell_type": "code",
   "execution_count": 28,
   "metadata": {},
   "outputs": [],
   "source": [
    "import spacy"
   ]
  },
  {
   "cell_type": "code",
   "execution_count": 29,
   "metadata": {},
   "outputs": [
    {
     "name": "stdout",
     "output_type": "stream",
     "text": [
      "I\n",
      "am\n",
      "Shimokawa\n",
      "I\n",
      "be\n",
      "Shimokawa\n",
      "i\n",
      "be\n",
      "shimokawa\n",
      "I\n",
      "am\n",
      "Shimokawa\n"
     ]
    }
   ],
   "source": [
    "nlp=spacy.load('en')\n",
    "words=nlp.make_doc(\"I am Shimokawa\")\n",
    "for word in words:\n",
    "  print(word)\n",
    "for word in words:\n",
    "  print(word.lemma_)\n",
    "for word in words:\n",
    "  print(word.lemma_.lower())\n",
    "for word in words:\n",
    "  print(word.text)"
   ]
  },
  {
   "cell_type": "code",
   "execution_count": 30,
   "metadata": {},
   "outputs": [],
   "source": [
    "def spacy_file(input_file, output_file):\n",
    "  with open(output_file,\"w\") as f:\n",
    "    f.write(\"\")\n",
    "  with open(input_file,\"r\") as input_f,open(output_file,mode=\"a\") as output_f:\n",
    "    nlp=spacy.load('en')\n",
    "    line=input_f.readline()\n",
    "    while line:\n",
    "      spacy_line=nlp.make_doc(line.strip())\n",
    "      output_sentence=\" \".join([word.text for word in spacy_line])+\"\\n\"\n",
    "      output_f.write(output_sentence)\n",
    "      line=input_f.readline()\n",
    "      "
   ]
  },
  {
   "cell_type": "code",
   "execution_count": 31,
   "metadata": {},
   "outputs": [],
   "source": [
    "spacy_file(drive_ch10+\"/orig/kyoto-train.en\",drive_ch10+\"/train_spacy.en\")\n",
    "spacy_file(drive_ch10+\"/orig/kyoto-dev.en\",drive_ch10+\"/dev_spacy.en\")\n",
    "spacy_file(drive_ch10+\"/orig/kyoto-test.en\",drive_ch10+\"/test_spacy.en\")"
   ]
  },
  {
   "cell_type": "code",
   "execution_count": 32,
   "metadata": {},
   "outputs": [
    {
     "name": "stdout",
     "output_type": "stream",
     "text": [
      "Known as Sesshu ( 1420 - 1506 ) , he was an ink painter and Zen monk active in the Muromachi period in the latter half of the 15th century , and was called a master painter .\n",
      "He revolutionized the Japanese ink painting .\n",
      "He was given the posthumous name \" Toyo \" or \" Sesshu ( 拙宗 ) . \"\n",
      "Born in Bicchu Province , he moved to Suo Province after entering SShokoku - ji Temple in Kyoto .\n",
      "Later he accompanied a mission to Ming Dynasty China and learned Chinese ink painting .\n",
      "His works were many , including not only Chinese - style landscape paintings , but also portraits and pictures of flowers and birds .\n",
      "His bold compositions and strong brush strokes constituted an extremely distinctive style .\n",
      "6 of his extant works are designated national treasures . Indeed , he is considered to be extraordinary among Japanese painters .\n",
      "For this reason , there are a great many artworks that are attributed to him , such as folding screens with pictures of flowers and that birds are painted on them .\n",
      "There are many works that even experts can not agree if they are really his work or not .\n"
     ]
    }
   ],
   "source": [
    "! head \"{drive_ch10+'/train_spacy.en'}\""
   ]
  },
  {
   "cell_type": "markdown",
   "metadata": {},
   "source": [
    "# 問題91"
   ]
  },
  {
   "cell_type": "code",
   "execution_count": 8,
   "metadata": {},
   "outputs": [
    {
     "name": "stdout",
     "output_type": "stream",
     "text": [
      "finished : The kernel is ready.\n"
     ]
    }
   ],
   "source": [
    "from t3jpttools import create_kernel\n",
    "create_kernel('100nock_ch10','python/3.8.3 intel cuda openmpi gcc/8.3.0')"
   ]
  },
  {
   "cell_type": "code",
   "execution_count": 9,
   "metadata": {},
   "outputs": [
    {
     "name": "stdout",
     "output_type": "stream",
     "text": [
      "Available kernels:\n",
      "------------------------------\n",
      "100nock_ch10\n",
      "python3\n",
      "------------------------------\n",
      "finished : Listed kernels.\n"
     ]
    }
   ],
   "source": [
    "from t3jpttools import list_kernel, delete_kernel, create_kernel\n",
    "list_kernel()"
   ]
  },
  {
   "cell_type": "markdown",
   "metadata": {},
   "source": [
    "前処理"
   ]
  },
  {
   "cell_type": "markdown",
   "metadata": {},
   "source": [
    "!fairseq-preprocess --source-lang ja --target-lang en --trainpref train_spacy --validpref dev_spacy --destdir myfairseq --thresholdsrc 5 --thresholdtgt 5 --workers 10"
   ]
  },
  {
   "cell_type": "markdown",
   "metadata": {},
   "source": [
    "訓練"
   ]
  },
  {
   "cell_type": "markdown",
   "metadata": {},
   "source": [
    "!fairseq-train myfairseq --fp16 --save-dir fseq_save --max-epoch 10 --no-epoch-checkpoints --arch transformer --share-decoder-input-output-embed --optimizer adam --clip-norm 1.0 --lr 1e-3 --lr-scheduler inverse_sqrt --warmup-updates 2000 --update-freq 1 --dropout 0.2 --weight-decay 0.0001 --criterion label_smoothed_cross_entropy --label-smoothing 0.1 --max-tokens 8000 > fairseq_learning.log"
   ]
  },
  {
   "cell_type": "markdown",
   "metadata": {},
   "source": [
    "# 問題92"
   ]
  },
  {
   "cell_type": "markdown",
   "metadata": {},
   "source": [
    "fairseq-interactive --path fseq_save/checkpoint_best.pt myfairseq < test_spacy.ja | grep '^H' | cut -f3 > test.out"
   ]
  },
  {
   "cell_type": "code",
   "execution_count": 1,
   "metadata": {},
   "outputs": [
    {
     "name": "stdout",
     "output_type": "stream",
     "text": [
      "<unk> ( <unk> )\n",
      "Ejo ( <unk> ) was a priest in the Kamakura period .\n",
      "He was the founder of the Soto sect .\n",
      "It is also called <unk> or <unk> .\n",
      "It is also called <unk> .\n",
      "His posthumous Buddhist name was <unk> .\n",
      "His common name was <unk> .\n",
      "In Japan , there is a custom in which a person who has a meal with a cup of sake ( Japanese liquor ) and a cup of sake ( Japanese liquor ) .\n",
      "It is said that the origin of the word ' <unk> ' ( <unk> ) was <unk> ( <unk> ) .\n",
      "His father was MINAMOTO no Michichika , who was a member of the Sekkan - ke ( the families which produced regents ) , and his mother was unknown .\n"
     ]
    }
   ],
   "source": [
    "!head test.out"
   ]
  },
  {
   "cell_type": "markdown",
   "metadata": {},
   "source": [
    "# 問題93"
   ]
  },
  {
   "cell_type": "markdown",
   "metadata": {},
   "source": [
    "fairseq-score --sys test.out --ref test_spacy.en"
   ]
  },
  {
   "cell_type": "markdown",
   "metadata": {},
   "source": [
    "Namespace(ignore_case=False, order=4, ref='test_spacy.en', sacrebleu=False, sentence_bleu=False, sys='test.out')\n",
    "BLEU4 = 4.11, 33.2/8.0/2.9/1.4 (BP=0.712, ratio=0.746, syslen=20623, reflen=27628)"
   ]
  },
  {
   "cell_type": "markdown",
   "metadata": {},
   "source": [
    "# 問題94"
   ]
  },
  {
   "cell_type": "markdown",
   "metadata": {},
   "source": [
    "以下をターミナルで実行"
   ]
  },
  {
   "cell_type": "code",
   "execution_count": null,
   "metadata": {},
   "outputs": [],
   "source": [
    "for N in `seq 1 20` ; do\n",
    "    fairseq-interactive --path fseq_save/checkpoint_best.pt --beam $N myfairseq < test_spacy.ja | grep '^H' | cut -f3 > 94.$N.out\n",
    "done"
   ]
  },
  {
   "cell_type": "code",
   "execution_count": null,
   "metadata": {},
   "outputs": [],
   "source": [
    "for N in `seq 1 20` ; do\n",
    "    fairseq-score --sys 94.$N.out --ref test_spacy.en > 94.$N.score\n",
    "done"
   ]
  },
  {
   "cell_type": "code",
   "execution_count": null,
   "metadata": {},
   "outputs": [],
   "source": [
    "import matplotlib as plt\n",
    "import re"
   ]
  },
  {
   "cell_type": "code",
   "execution_count": null,
   "metadata": {},
   "outputs": [],
   "source": [
    "def read_score(filename):\n",
    "    with open(filename) as f:\n",
    "        x = f.readlines()[1]\n",
    "        x = re.search(r'(?<=BLEU4 = )\\d*\\.\\d*(?=,)', x)\n",
    "        return float(x.group())\n",
    "\n",
    "xs = range(1, 21)\n",
    "ys = [read_score(f'94.{x}.score') for x in xs]\n",
    "fig = plt.figure()\n",
    "plt.plot(xs, ys)\n",
    "fig.savefig(\"94.png\")"
   ]
  },
  {
   "cell_type": "code",
   "execution_count": 8,
   "metadata": {},
   "outputs": [
    {
     "data": {
      "image/png": "[encoded data removed]",
      "text/plain": [
       "<IPython.core.display.Image object>"
      ]
     },
     "execution_count": 8,
     "metadata": {},
     "output_type": "execute_result"
    }
   ],
   "source": [
    "from IPython.display import Image\n",
    "Image(\"94.png\")"
   ]
  },
  {
   "cell_type": "markdown",
   "metadata": {},
   "source": [
    "## 問題95"
   ]
  },
  {
   "cell_type": "code",
   "execution_count": null,
   "metadata": {},
   "outputs": [],
   "source": [
    "import sentencepiece as spm"
   ]
  },
  {
   "cell_type": "code",
   "execution_count": null,
   "metadata": {},
   "outputs": [],
   "source": [
    "spm.SentencePieceTrainer.Train('--input=kyoto-train.ja --model_prefix=kyoto_ja --vocab_size=16000 --character_coverage=1.0')"
   ]
  },
  {
   "cell_type": "code",
   "execution_count": null,
   "metadata": {},
   "outputs": [],
   "source": [
    "sp = spm.SentencePieceProcessor()\n",
    "sp.Load('kyoto_ja.model')"
   ]
  },
  {
   "cell_type": "code",
   "execution_count": null,
   "metadata": {},
   "outputs": [],
   "source": [
    "for src, dst in [\n",
    "    ('orig/kyoto-train.ja', 'train.sub.ja'),\n",
    "    ('orig/kyoto-dev.ja', 'dev.sub.ja'),\n",
    "    ('orig/kyoto-test.ja', 'test.sub.ja'),\n",
    "]:\n",
    "    with open(src) as f, open(dst, 'w') as g:\n",
    "        for x in f:\n",
    "            x = x.strip()\n",
    "            x = re.sub(r'\\s+', ' ', x)\n",
    "            x = sp.encode_as_pieces(x)\n",
    "            x = ' '.join(x)\n",
    "            print(x, file=g)"
   ]
  },
  {
   "cell_type": "code",
   "execution_count": 9,
   "metadata": {},
   "outputs": [
    {
     "name": "stdout",
     "output_type": "stream",
     "text": [
      "▁ 雪 舟 ( せ っ しゅう 、 14 20 年 ( 応永 27 年 )- 150 6 年 ( 永正 3 年 ) ) は 号 で 、 15 世紀後半 室町時代に 活躍した 水墨画 家 ・ 禅僧 で 、 画 聖 とも 称え られる 。\n",
      "▁日本の 水墨画 を 一 変 させた 。\n",
      "▁諱は 「 等 楊 ( とう よう ) 」 、 もしくは 「 拙 宗 ( せ っ しゅう ) 」 と号した 。\n",
      "▁ 備中国 に 生まれ 、 京都 ・ 相国寺 に入って から 周防国 に移る 。\n",
      "▁その後 遣 明 使 に 随行 して 中国 ( 明 ) に渡って 中国の 水墨画 を学んだ 。\n",
      "▁ 作品 は 数多く 、 中国 風の 山 水 画 だけでなく 人物 画 や 花鳥 画 も よく した 。\n",
      "▁大 胆 な 構図 と 力 強い 筆 線 は非常に 個 性 的な 画 風 を作り 出している 。\n",
      "▁ 現存する 作品 のうち 6 点 が 国宝 に指定され ており 、 日本の 画家 のなかで も 別 格 の 評価 を受けている といえる 。\n",
      "▁このため 、 花鳥 図屏風 などに 「 伝 雪 舟 筆 」 される 作品 は 大変 多い 。\n",
      "▁ 真 筆 である か 専門 家 の間で も 意見 の 分かれ るもの も 多 々 ある 。\n"
     ]
    }
   ],
   "source": [
    "! head train.sub.ja"
   ]
  },
  {
   "cell_type": "markdown",
   "metadata": {},
   "source": [
    "subword-nmt learn-bpe -s 16000 < orig/kyoto-train.en > kyoto_en.codes"
   ]
  },
  {
   "cell_type": "markdown",
   "metadata": {},
   "source": [
    "! subword-nmt apply-bpe -c kyoto_en.codes < orig/kyoto-train.en > train_sub.en\n",
    "! subword-nmt apply-bpe -c kyoto_en.codes < orig/kyoto-dev.en > dev_sub.en\n",
    "! subword-nmt apply-bpe -c kyoto_en.codes < orig/kyoto-test.en > test_sub.en"
   ]
  },
  {
   "cell_type": "code",
   "execution_count": 10,
   "metadata": {},
   "outputs": [
    {
     "name": "stdout",
     "output_type": "stream",
     "text": [
      "K@@ n@@ own as Ses@@ shu (14@@ 20 - 150@@ 6@@ ), he was an ink painter and Zen monk active in the Muromachi period in the latter half of the 15th century, and was called a master pain@@ ter.\n",
      "He revol@@ ut@@ ion@@ ized the Japanese ink paint@@ ing.\n",
      "He was given the posthumous name \"@@ Toyo@@ \" or \"S@@ es@@ shu (@@ 拙@@ 宗@@ ).\"\n",
      "Born in Bicchu Province, he moved to Suo Province after entering S@@ Shokoku-ji Temple in Kyoto.\n",
      "Later he accompanied a mission to Ming Dynasty China and learned Chinese ink paint@@ ing.\n",
      "His works were man@@ y, including not only Chinese-style landscape paintings, but also portraits and pictures of flowers and bird@@ s.\n",
      "His b@@ old compos@@ itions and strong brush st@@ rok@@ es const@@ ituted an extremely distinctive style.\n",
      "6 of his ext@@ ant works are designated national treasu@@ res. In@@ de@@ ed, he is considered to be extraordinary among Japanese pain@@ ters.\n",
      "For this reason, there are a great many art@@ works that are attributed to him, such as folding scre@@ ens with pictures of flowers and that birds are painted on them.\n",
      "There are many works that even experts cannot ag@@ ree if they are really his work or not.\n"
     ]
    }
   ],
   "source": [
    "! head train.sub.en"
   ]
  },
  {
   "cell_type": "markdown",
   "metadata": {},
   "source": [
    "前処理"
   ]
  },
  {
   "cell_type": "markdown",
   "metadata": {},
   "source": [
    "!fairseq-preprocess -s ja -t en \\\n",
    "    --trainpref train.sub \\\n",
    "    --validpref dev.sub \\\n",
    "    --destdir data95  \\\n",
    "    --workers 20"
   ]
  },
  {
   "cell_type": "markdown",
   "metadata": {},
   "source": [
    "訓練"
   ]
  },
  {
   "cell_type": "markdown",
   "metadata": {},
   "source": [
    "!fairseq-train data95 \\\n",
    "    --fp16 \\\n",
    "    --save-dir save95 \\\n",
    "    --max-epoch 10 \\\n",
    "    --no-epoch-checkpoints \\\n",
    "    --arch transformer --share-decoder-input-output-embed \\\n",
    "    --optimizer adam --clip-norm 1.0 \\\n",
    "    --lr 1e-3 --lr-scheduler inverse_sqrt --warmup-updates 2000 \\\n",
    "    --update-freq 1 \\\n",
    "    --dropout 0.2 --weight-decay 0.0001 \\\n",
    "    --criterion label_smoothed_cross_entropy --label-smoothing 0.1 \\\n",
    "    --max-tokens 8000 > 95.log"
   ]
  },
  {
   "cell_type": "markdown",
   "metadata": {},
   "source": [
    "翻訳"
   ]
  },
  {
   "cell_type": "code",
   "execution_count": null,
   "metadata": {},
   "outputs": [],
   "source": [
    "!fairseq-interactive --path save95/checkpoint10.pt data95 < test.sub.ja | grep '^H' | cut -f3 | sed -r 's/(@@ )|(@@ ?$)//g' > 95.out"
   ]
  },
  {
   "cell_type": "code",
   "execution_count": 12,
   "metadata": {},
   "outputs": [
    {
     "name": "stdout",
     "output_type": "stream",
     "text": [
      "Brief biography\n",
      "The sango (literally, \"mountain name\"), which is the title prefixed to the name of a Buddhist temple)\n",
      "Its sango (literally, \"mountain name\"), which is the title prefixed to the name of a Buddhist temple) is Daizan.\n",
      "It is said that he was born in the same year.\n",
      "It is also said that he was a descendant of Prince Shotoku.\n",
      "The sango (literally, \"mountain name\"), which is the title prefixed to the name of a Buddhist temple)\n",
      "Its sango (literally, \"mountain name\"), which is the title prefixed to the name of a Buddhist temple, is Daizan.\n",
      "It is said that this is the origin of the name of the station.\n",
      "It is said that he was born in Kyoto.\n",
      "It is said that he was a close aide to the Emperor Godaigo.\n",
      "It is said that he was born in Kyoto.\n",
      "It is said that he was the father of MINAMOTO no Tameyoshi.\n",
      "It is said that he was born in Kyoto.\n",
      "It is said that he was a close aide to the Emperor Godaigo.\n",
      "It is said that this is the origin of the name of the temple.\n",
      "It is said that he was one of the compilers of the \"Honcho Seiki\" (The Record of Imperial Reigns).\n",
      "He was born in Kyoto.\n",
      "In the same year, he became a priest of the Tendai sect.\n",
      "In the same year, he became a priest of the Tendai sect.\n",
      "He was born in Kyoto.\n",
      "It is said that he was born in Kyoto.\n",
      "He died in the same year.\n",
      "He was born in Kyoto.\n",
      "However, it is said that the temple was destroyed by fire.\n",
      "On the other hand, it is said that he was born in Kyoto.\n",
      "He was born in Kyoto.\n",
      "In the same year, he entered the Buddhist priesthood.\n",
      "He was born in Kyoto.\n",
      "It is said that he was a close aide to the Emperor Godaigo.\n",
      "It is said that this was the beginning of the Kamakura period.\n",
      "It is said that he was born in Kyoto.\n",
      "It is said that he died in the same year.\n",
      "It is said that this is the origin of this sutra.\n",
      "It is said that this is the origin of the name of the era.\n",
      "It is said to have been made in the Kamakura period.\n",
      "It is said that he died at the age of 29.\n",
      "It is said that this is the origin of this word.\n",
      "It is said that he was born in Kyoto.\n",
      "It is said that he was born in the same year.\n",
      "It is said that this is the origin of this sutra.\n",
      "It is said that this is the beginning of the Heian period.\n",
      "It is said that this is the origin of this book.\n",
      "\"Dainihonshi\"\n",
      "\"Dainihonshi\" (Great history of Japan)\n",
      "\"Dainihonshi\" (Great History of Japan)\n",
      "\"Dainihonshi\" (Great history of Japan)\n",
      "\"Dainihon Shodo-kai\"\n",
      "\"Dainihonshi\" (Great history of Japan)\n",
      "\"Tsurezure gusa\" (Essays in Idleness)\n",
      "\"Dainichi-kyo Sutra\"\n",
      "In the same year, he was designated as an Important Intangible Cultural Property (Living National Treasure).\n",
      "\"Tsurezure gusa\"\n",
      "He was also known as a scholar of Japanese classical literature in the Kamakura period.\n",
      "\"Dainihonshi\" (Great history of Japan)\n",
      "\"Dainihonshi\" (Great history of Japan)\n",
      "\"Dainihonshi\" (Great history of Japan)\n",
      "In 1980, he was designated as a member of the Japan Art Academy.\n",
      "\"Dainihon Shodo-kai\"\n",
      "\"Dainihon Shodo-ron\"\n",
      "In the same year, he became a member of the Japan Art Academy.\n",
      "Brief biography\n",
      "\"Dainihonshi\" (Great history of Japan)\n",
      "\"Dainihonshi\" (Great history of Japan)\n",
      "In the same year, he became a member of the Japan Art Academy\n",
      "He was a member of the Japan Art Academy.\n",
      "In the same year, he became a member of the Japan Art Academy.\n",
      "In the same year, he became a member of the Japan Art Academy.\n",
      "In the same year, he became a member of the Japan Art Academy.\n",
      "In the same year, he became a member of the Japan Art Academy.\n",
      "It is said that he was born in Kyoto.\n",
      "It is said that he was born in Kyoto.\n",
      "In the same year, he became a member of the Japanese Red Cross Society.\n",
      "In the same year, he became a member of the Japanese Red Cross Society.\n",
      "In the same year, he became a member of the Japan Art Academy.\n",
      "Kyoto City Bus Co., Ltd.\n",
      "On the other hand, it was designated as a national historic site.\n",
      "This is the beginning of the Showa period.\n",
      "This is the origin of the Kansai Main Line.\n",
      "This is the origin of the name of the station.\n",
      "It was designated as a national historic site.\n",
      "In the past, the number of passengers boarding at this station increased.\n",
      "It is designated as a national historic site.\n",
      "It was designated as a national historic site.\n",
      "It was designated as a national important cultural property.\n",
      "It was designated as a national historic site.\n",
      "It was designated as a national historic site.\n",
      "It was designated as a national historic site.\n",
      "It was designated as a national historic site.\n",
      "It has been used as a souvenir since the 1980s.\n",
      "In the past, the number of passengers boarding at this station increased.\n",
      "The name of the station was changed to 'Tango.'\n",
      "This is because the number of passengers boarding at this station increased.\n",
      "This is the origin of the name of the station.\n",
      "The station is located on the west side of the station.\n",
      "The station is located in the center of the city.\n",
      "This was the beginning of the war.\n",
      "Painting\n",
      "It is also called 'Tanabata Matsuri' or 'Tanabata Matsuri.'\n",
      "In the same year, he became a member of the Japan Broadcasting Corporation.\n",
      "In the same year, he became a member of the Japan Art Academy.\n"
     ]
    }
   ],
   "source": [
    "!head -n 100 95.out"
   ]
  },
  {
   "cell_type": "code",
   "execution_count": null,
   "metadata": {},
   "outputs": [],
   "source": [
    "def spacy_tokenize(src, dst):\n",
    "    with open(src) as f, open(dst, 'w') as g:\n",
    "        for x in f:\n",
    "            x = x.strip()\n",
    "            x = ' '.join([doc.text for doc in nlp(x)])\n",
    "            print(x, file=g)\n",
    "spacy_tokenize('95.out', '95.out.spacy')"
   ]
  },
  {
   "cell_type": "code",
   "execution_count": null,
   "metadata": {},
   "outputs": [],
   "source": [
    "!fairseq-score --sys 95.out.spacy --ref test_spacy.en"
   ]
  },
  {
   "cell_type": "markdown",
   "metadata": {},
   "source": [
    "Namespace(ignore_case=False, order=4, ref='test_spacy.en', sacrebleu=False, sentence_bleu=False, sys='95.out.spacy')\n",
    "BLEU4 = 0.92, 26.4/3.7/0.9/0.4 (BP=0.379, ratio=0.508, syslen=14023, reflen=27628)"
   ]
  },
  {
   "cell_type": "code",
   "execution_count": null,
   "metadata": {},
   "outputs": [],
   "source": [
    "xs = range(1, 11)\n",
    "ys = [read_score(f'95.{x}.score') for x in xs]\n",
    "fig = plt.figure()\n",
    "plt.plot(xs, ys)\n",
    "fig.savefig(\"95.png\")"
   ]
  },
  {
   "cell_type": "code",
   "execution_count": 1,
   "metadata": {},
   "outputs": [
    {
     "data": {
      "image/png": "[encoded data removed]",
      "text/plain": [
       "<IPython.core.display.Image object>"
      ]
     },
     "execution_count": 1,
     "metadata": {},
     "output_type": "execute_result"
    }
   ],
   "source": [
    "from IPython.display import Image\n",
    "Image(\"95.png\")"
   ]
  },
  {
   "cell_type": "markdown",
   "metadata": {},
   "source": [
    "# 問題96"
   ]
  },
  {
   "cell_type": "code",
   "execution_count": null,
   "metadata": {},
   "outputs": [],
   "source": [
    "fairseq-train data95 \\\n",
    "    --fp16 \\\n",
    "    --tensorboard-logdir log96 \\\n",
    "    --save-dir save96 \\\n",
    "    --max-epoch 5 \\\n",
    "    --arch transformer --share-decoder-input-output-embed \\\n",
    "    --optimizer adam --clip-norm 1.0 \\\n",
    "    --lr 1e-3 --lr-scheduler inverse_sqrt --warmup-updates 2000 \\\n",
    "    --dropout 0.2 --weight-decay 0.0001 \\\n",
    "    --update-freq 1 \\\n",
    "    --criterion label_smoothed_cross_entropy --label-smoothing 0.1 \\\n",
    "    --max-tokens 8000 > 96.log"
   ]
  },
  {
   "cell_type": "markdown",
   "metadata": {},
   "source": [
    "# 問題97"
   ]
  },
  {
   "cell_type": "markdown",
   "metadata": {},
   "source": [
    "ドロップアウト"
   ]
  },
  {
   "cell_type": "code",
   "execution_count": null,
   "metadata": {},
   "outputs": [],
   "source": [
    "fairseq-train data95 \\\n",
    "    --fp16 \\\n",
    "    --save-dir save97_1 \\\n",
    "    --max-epoch 3 \\\n",
    "    --no-epoch-checkpoints \\\n",
    "    --arch transformer --share-decoder-input-output-embed \\\n",
    "    --optimizer adam --clip-norm 1.0 \\\n",
    "    --lr 1e-3 --lr-scheduler inverse_sqrt --warmup-updates 2000 \\\n",
    "    --update-freq 1 \\\n",
    "    --dropout 0.1 --weight-decay 0.0001 \\\n",
    "    --criterion label_smoothed_cross_entropy --label-smoothing 0.1 \\\n",
    "    --max-tokens 8000 > 97_1.log"
   ]
  },
  {
   "cell_type": "code",
   "execution_count": null,
   "metadata": {},
   "outputs": [],
   "source": [
    "fairseq-train data95 \\\n",
    "    --fp16 \\\n",
    "    --save-dir save97_3 \\\n",
    "    --max-epoch 3 \\\n",
    "    --no-epoch-checkpoints \\\n",
    "    --arch transformer --share-decoder-input-output-embed \\\n",
    "    --optimizer adam --clip-norm 1.0 \\\n",
    "    --lr 1e-3 --lr-scheduler inverse_sqrt --warmup-updates 2000 \\\n",
    "    --update-freq 1 \\\n",
    "    --dropout 0.3 --weight-decay 0.0001 \\\n",
    "    --criterion label_smoothed_cross_entropy --label-smoothing 0.1 \\\n",
    "    --max-tokens 8000 > 97_3.log"
   ]
  },
  {
   "cell_type": "code",
   "execution_count": null,
   "metadata": {},
   "outputs": [],
   "source": [
    "fairseq-train data95 \\\n",
    "    --fp16 \\\n",
    "    --save-dir save97_5 \\\n",
    "    --max-epoch 3 \\\n",
    "    --no-epoch-checkpoints \\\n",
    "    --arch transformer --share-decoder-input-output-embed \\\n",
    "    --optimizer adam --clip-norm 1.0 \\\n",
    "    --lr 1e-3 --lr-scheduler inverse_sqrt --warmup-updates 2000 \\\n",
    "    --update-freq 1 \\\n",
    "    --dropout 0.5 --weight-decay 0.0001 \\\n",
    "    --criterion label_smoothed_cross_entropy --label-smoothing 0.1 \\\n",
    "    --max-tokens 8000 > 97_5.log"
   ]
  },
  {
   "cell_type": "code",
   "execution_count": null,
   "metadata": {},
   "outputs": [],
   "source": [
    "fairseq-interactive --path save97_1/checkpoint_best.pt data95 < test.sub.ja | grep '^H' | cut -f3 | sed -r 's/(@@ )|(@@ ?$)//g' > 97_1.out\n",
    "fairseq-interactive --path save97_3/checkpoint_best.pt data95 < test.sub.ja | grep '^H' | cut -f3 | sed -r 's/(@@ )|(@@ ?$)//g' > 97_3.out\n",
    "fairseq-interactive --path save97_5/checkpoint_best.pt data95 < test.sub.ja | grep '^H' | cut -f3 | sed -r 's/(@@ )|(@@ ?$)//g' > 97_5.out"
   ]
  },
  {
   "cell_type": "markdown",
   "metadata": {},
   "source": [
    "fairseq-score --sys 97_1.out.spacy --ref test_spacy.en\n",
    "\n",
    "Namespace(ignore_case=False, order=4, ref='test_spacy.en', sacrebleu=False, sentence_bleu=False, sys='97_1.out.spacy')\n",
    "BLEU4 = 1.87, 21.3/3.3/0.9/0.4 (BP=0.816, ratio=0.831, syslen=22958, reflen=27628)"
   ]
  },
  {
   "cell_type": "markdown",
   "metadata": {},
   "source": [
    "fairseq-score --sys 97_3.out.spacy --ref test_spacy.en\n",
    "\n",
    "Namespace(ignore_case=False, order=4, ref='test_spacy.en', sacrebleu=False, sentence_bleu=False, sys='97_3.out.spacy')\n",
    "BLEU4 = 1.05, 19.2/2.3/0.5/0.2 (BP=0.733, ratio=0.763, syslen=21071, reflen=27628)"
   ]
  },
  {
   "cell_type": "markdown",
   "metadata": {},
   "source": [
    "fairseq-score --sys 97_5.out.spacy --ref test_spacy.en\n",
    "\n",
    "Namespace(ignore_case=False, order=4, ref='test_spacy.en', sacrebleu=False, sentence_bleu=False, sys='97_5.out.spacy')\n",
    "BLEU4 = 0.40, 17.1/1.9/0.1/0.0 (BP=0.724, ratio=0.756, syslen=20880, reflen=27628)"
   ]
  },
  {
   "cell_type": "markdown",
   "metadata": {},
   "source": [
    "学習率"
   ]
  },
  {
   "cell_type": "markdown",
   "metadata": {},
   "source": [
    "fairseq-train data95 \\\n",
    "    --fp16 \\\n",
    "    --save-dir save97a \\\n",
    "    --no-epoch-checkpoints \\\n",
    "    --max-epoch 10 \\\n",
    "    --arch transformer --share-decoder-input-output-embed \\\n",
    "    --optimizer adam --clip-norm 1.0 \\\n",
    "    --lr 5e-4 --lr-scheduler inverse_sqrt --warmup-updates 2000 \\\n",
    "    --dropout 0.1 --weight-decay 0.0001 \\\n",
    "    --update-freq 1 \\\n",
    "    --criterion label_smoothed_cross_entropy --label-smoothing 0.1 \\\n",
    "    --max-tokens 8000 > 97a.log"
   ]
  },
  {
   "cell_type": "markdown",
   "metadata": {},
   "source": [
    "fairseq-train data95 \\\n",
    "    --fp16 \\\n",
    "    --save-dir save97a \\\n",
    "    --no-epoch-checkpoints \\\n",
    "    --max-epoch 10 \\\n",
    "    --arch transformer --share-decoder-input-output-embed \\\n",
    "    --optimizer adam --clip-norm 1.0 \\\n",
    "    --lr 2e-4 --lr-scheduler inverse_sqrt --warmup-updates 2000 \\\n",
    "    --dropout 0.1 --weight-decay 0.0001 \\\n",
    "    --update-freq 1 \\\n",
    "    --criterion label_smoothed_cross_entropy --label-smoothing 0.1 \\\n",
    "    --max-tokens 8000 > 97a.log"
   ]
  },
  {
   "cell_type": "markdown",
   "metadata": {},
   "source": [
    "fairseq-train data95 \\\n",
    "    --fp16 \\\n",
    "    --save-dir save97c \\\n",
    "    --no-epoch-checkpoints \\\n",
    "    --max-epoch 10 \\\n",
    "    --arch transformer --share-decoder-input-output-embed \\\n",
    "    --optimizer adam --clip-norm 1.0 \\\n",
    "    --lr 1e-4 --lr-scheduler inverse_sqrt --warmup-updates 2000 \\\n",
    "    --dropout 0.1 --weight-decay 0.0001 \\\n",
    "    --update-freq 1 \\\n",
    "    --criterion label_smoothed_cross_entropy --label-smoothing 0.1 \\\n",
    "    --max-tokens 8000 > 97c.log"
   ]
  },
  {
   "cell_type": "markdown",
   "metadata": {},
   "source": [
    "fairseq-interactive --path save97a/checkpoint_best.pt data95 < test.sub.ja | grep '^H' | cut -f3 | sed -r 's/(@@ )|(@@ ?$)//g' > 97a.out\n",
    "fairseq-interactive --path save97b/checkpoint_best.pt data95 < test.sub.ja | grep '^H' | cut -f3 | sed -r 's/(@@ )|(@@ ?$)//g' > 97b.out\n",
    "fairseq-interactive --path save97c/checkpoint_best.pt data95 < test.sub.ja | grep '^H' | cut -f3 | sed -r 's/(@@ )|(@@ ?$)//g' > 97c.out"
   ]
  },
  {
   "cell_type": "markdown",
   "metadata": {},
   "source": [
    "spacy_tokenize('97a.out', '97a.out.spacy')\n",
    "spacy_tokenize('97b.out', '97b.out.spacy')\n",
    "spacy_tokenize('97c.out', '97c.out.spacy')"
   ]
  },
  {
   "cell_type": "markdown",
   "metadata": {},
   "source": [
    "fairseq-score --sys 97a.out.spacy --ref test_spacy.en\n",
    "\n",
    "Namespace(ignore_case=False, order=4, ref='test_spacy.en', sacrebleu=False, sentence_bleu=False, sys='97a.out.spacy')\n",
    "BLEU4 = 21.21, 51.2/25.9/15.5/9.9 (BP=1.000, ratio=1.058, syslen=29233, reflen=27628)"
   ]
  },
  {
   "cell_type": "markdown",
   "metadata": {},
   "source": [
    "fairseq-score --sys 97b.out.spacy --ref test_spacy.en\n",
    "\n",
    "Namespace(ignore_case=False, order=4, ref='test_spacy.en', sacrebleu=False, sentence_bleu=False, sys='97b.out.spacy')\n",
    "BLEU4 = 19.12, 49.3/23.6/13.6/8.4 (BP=1.000, ratio=1.035, syslen=28603, reflen=27628)"
   ]
  },
  {
   "cell_type": "markdown",
   "metadata": {},
   "source": [
    "fairseq-score --sys 97c.out.spacy --ref test_spacy.en\n",
    "\n",
    "Namespace(ignore_case=False, order=4, ref='test_spacy.en', sacrebleu=False, sentence_bleu=False, sys='97c.out.spacy')\n",
    "BLEU4 = 13.71, 40.4/17.3/9.3/5.5 (BP=1.000, ratio=1.113, syslen=30744, reflen=27628)"
   ]
  },
  {
   "cell_type": "markdown",
   "metadata": {},
   "source": [
    "# 問題98"
   ]
  },
  {
   "cell_type": "code",
   "execution_count": null,
   "metadata": {},
   "outputs": [],
   "source": [
    "import tarfile"
   ]
  },
  {
   "cell_type": "code",
   "execution_count": null,
   "metadata": {},
   "outputs": [],
   "source": [
    "with tarfile.open('en-ja.tar.gz') as tar:\n",
    "    for f in tar.getmembers():\n",
    "        if f.name.endswith('txt'):\n",
    "            text = tar.extractfile(f).read().decode('utf-8')\n",
    "            break"
   ]
  },
  {
   "cell_type": "code",
   "execution_count": null,
   "metadata": {},
   "outputs": [],
   "source": [
    "data = text.splitlines()\n",
    "data = [x.split('\\t') for x in data]\n",
    "data = [x for x in data if len(x) == 4]\n",
    "data = [[x[3], x[2]] for x in data]"
   ]
  },
  {
   "cell_type": "code",
   "execution_count": null,
   "metadata": {},
   "outputs": [],
   "source": [
    "with open('jparacrawl.ja', 'w') as f, open('jparacrawl.en', 'w') as g:\n",
    "    for j, e in data:\n",
    "        print(j, file=f)\n",
    "        print(e, file=g)"
   ]
  },
  {
   "cell_type": "code",
   "execution_count": null,
   "metadata": {},
   "outputs": [],
   "source": [
    "with open('jparacrawl.ja') as f, open('train.jparacrawl.ja', 'w') as g:\n",
    "    for x in f:\n",
    "        x = x.strip()\n",
    "        x = re.sub(r'\\s+', ' ', x)\n",
    "        x = sp.encode_as_pieces(x)\n",
    "        x = ' '.join(x)\n",
    "        print(x, file=g)"
   ]
  },
  {
   "cell_type": "markdown",
   "metadata": {},
   "source": [
    "subword-nmt apply-bpe -c kyoto_en.codes < jparacrawl.en > train.jparacrawl.en"
   ]
  },
  {
   "cell_type": "markdown",
   "metadata": {},
   "source": [
    "fairseq-preprocess -s ja -t en \\\n",
    "    --trainpref train.jparacrawl \\\n",
    "    --validpref dev.sub \\\n",
    "    --destdir data98  \\\n",
    "    --workers 20"
   ]
  },
  {
   "cell_type": "markdown",
   "metadata": {},
   "source": [
    "Namespace(align_suffix=None, alignfile=None, bpe=None, cpu=False, criterion='cross_entropy', dataset_impl='mmap', destdir='data98', empty_cache_freq=0, fp16=False, fp16_init_scale=128, fp16_scale_tolerance=0.0, fp16_scale_window=None, joined_dictionary=False, log_format=None, log_interval=1000, lr_scheduler='fixed', memory_efficient_fp16=False, min_loss_scale=0.0001, no_progress_bar=False, nwordssrc=-1, nwordstgt=-1, only_source=False, optimizer='nag', padding_factor=8, seed=1, source_lang='ja', srcdict=None, target_lang='en', task='translation', tensorboard_logdir='', testpref=None, tgtdict=None, threshold_loss_scale=None, thresholdsrc=0, thresholdtgt=0, tokenizer=None, trainpref='train.jparacrawl', user_dir=None, validpref='dev.sub', workers=20)\n",
    "| [ja] Dictionary: 7 types\n",
    "| [ja] train.jparacrawl.ja: 10120012 sents, 10120012 tokens, 0.0% replaced by <unk>\n",
    "| [ja] Dictionary: 7 types\n",
    "| [ja] dev.sub.ja: 1166 sents, 24825 tokens, 95.3% replaced by <unk>\n",
    "| [en] Dictionary: 29423 types\n",
    "| [en] train.jparacrawl.en: 10120012 sents, 386654564 tokens, 0.0% replaced by <unk>\n",
    "| [en] Dictionary: 29423 types\n",
    "| [en] dev.sub.en: 1166 sents, 29011 tokens, 0.279% replaced by <unk>\n",
    "| Wrote preprocessed data to data98"
   ]
  },
  {
   "cell_type": "markdown",
   "metadata": {},
   "source": [
    "fairseq-train data98 \\\n",
    "    --fp16 \\\n",
    "    --save-dir save98_1 \\\n",
    "    --max-epoch 3 \\\n",
    "    --no-epoch-checkpoints \\\n",
    "    --arch transformer --share-decoder-input-output-embed \\\n",
    "    --optimizer adam --clip-norm 1.0 \\\n",
    "    --lr 1e-4 --lr-scheduler inverse_sqrt --warmup-updates 4000 \\\n",
    "    --dropout 0.1 --weight-decay 0.0001 \\\n",
    "    --criterion label_smoothed_cross_entropy --label-smoothing 0.1 \\\n",
    "    --max-tokens 8000 > 98_1.log"
   ]
  },
  {
   "cell_type": "markdown",
   "metadata": {},
   "source": [
    "fairseq-interactive --path save98_1/checkpoint_best.pt data98 < test.sub.ja | grep '^H' | cut -f3 | sed -r 's/(@@ )|(@@ ?$)//g' > 98_1.out"
   ]
  },
  {
   "cell_type": "code",
   "execution_count": null,
   "metadata": {},
   "outputs": [],
   "source": [
    "spacy_tokenize('98_1.out', '98_1.out.spacy')"
   ]
  },
  {
   "cell_type": "markdown",
   "metadata": {},
   "source": [
    "fairseq-score --sys 98_1.out.spacy --ref test_spacy.en"
   ]
  },
  {
   "cell_type": "markdown",
   "metadata": {},
   "source": [
    "Namespace(ignore_case=False, order=4, ref='test_spacy.en', sacrebleu=False, sentence_bleu=False, sys='98_1.out.spacy')\n",
    "BLEU4 = 0.00, 9.0/0.2/0.0/0.0 (BP=1.000, ratio=1.805, syslen=49880, reflen=27628)"
   ]
  },
  {
   "cell_type": "markdown",
   "metadata": {},
   "source": [
    "fairseq-preprocess -s ja -t en \\\n",
    "    --trainpref train.sub \\\n",
    "    --validpref dev.sub \\\n",
    "    --tgtdict data98/dict.en.txt \\\n",
    "    --srcdict data98/dict.ja.txt \\\n",
    "    --destdir data98_2  \\\n",
    "    --workers 20"
   ]
  },
  {
   "cell_type": "markdown",
   "metadata": {},
   "source": [
    "Namespace(align_suffix=None, alignfile=None, bpe=None, cpu=False, criterion='cross_entropy', dataset_impl='mmap', destdir='data98_2', empty_cache_freq=0, fp16=False, fp16_init_scale=128, fp16_scale_tolerance=0.0, fp16_scale_window=None, joined_dictionary=False, log_format=None, log_interval=1000, lr_scheduler='fixed', memory_efficient_fp16=False, min_loss_scale=0.0001, no_progress_bar=False, nwordssrc=-1, nwordstgt=-1, only_source=False, optimizer='nag', padding_factor=8, seed=1, source_lang='ja', srcdict='data98/dict.ja.txt', target_lang='en', task='translation', tensorboard_logdir='', testpref=None, tgtdict='data98/dict.en.txt', threshold_loss_scale=None, thresholdsrc=0, thresholdtgt=0, tokenizer=None, trainpref='train.sub', user_dir=None, validpref='dev.sub', workers=20)\n",
    "| [ja] Dictionary: 7 types\n",
    "| [ja] train.sub.ja: 440288 sents, 10735634 tokens, 95.9% replaced by <unk>\n",
    "| [ja] Dictionary: 7 types\n",
    "| [ja] dev.sub.ja: 1166 sents, 24825 tokens, 95.3% replaced by <unk>\n",
    "| [en] Dictionary: 29423 types\n",
    "| [en] train.sub.en: 440288 sents, 13280091 tokens, 0.222% replaced by <unk>\n",
    "| [en] Dictionary: 29423 types\n",
    "| [en] dev.sub.en: 1166 sents, 29011 tokens, 0.279% replaced by <unk>\n",
    "| Wrote preprocessed data to data98_2"
   ]
  },
  {
   "cell_type": "markdown",
   "metadata": {},
   "source": [
    "fairseq-train data98_2 \\\n",
    "    --fp16 \\\n",
    "    --restore-file save98_1/checkpoint3.pt \\\n",
    "    --save-dir save98_2 \\\n",
    "    --max-epoch 10 \\\n",
    "    --no-epoch-checkpoints \\\n",
    "    --arch transformer --share-decoder-input-output-embed \\\n",
    "    --optimizer adam --clip-norm 1.0 \\\n",
    "    --lr 1e-3 --lr-scheduler inverse_sqrt --warmup-updates 2000 \\\n",
    "    --dropout 0.1 --weight-decay 0.0001 \\\n",
    "    --criterion label_smoothed_cross_entropy --label-smoothing 0.1 \\\n",
    "    --max-tokens 8000 > 98_2.log"
   ]
  },
  {
   "cell_type": "markdown",
   "metadata": {},
   "source": [
    "fairseq-interactive --path save98_2/checkpoint10.pt data98_2 < test.sub.ja | grep '^H' | cut -f3 | sed -r 's/(@@ )|(@@ ?$)//g' > 98_2.out"
   ]
  },
  {
   "cell_type": "code",
   "execution_count": null,
   "metadata": {},
   "outputs": [],
   "source": [
    "spacy_tokenize('98_2.out', '98_2.out.spacy')"
   ]
  },
  {
   "cell_type": "markdown",
   "metadata": {},
   "source": [
    "fairseq-score --sys 98_2.out.spacy --ref test.spacy.en"
   ]
  },
  {
   "cell_type": "markdown",
   "metadata": {},
   "source": [
    "Namespace(ignore_case=False, order=4, ref='test_spacy.en', sacrebleu=False, sentence_bleu=False, sys='98_2.out.spacy')\n",
    "BLEU4 = 0.00, 14.1/0.6/0.0/0.0 (BP=0.670, ratio=0.714, syslen=19720, reflen=27628)"
   ]
  },
  {
   "cell_type": "markdown",
   "metadata": {},
   "source": [
    "# 問題99"
   ]
  }
 ],
 "metadata": {
  "kernelspec": {
   "display_name": "Python 3",
   "language": "python",
   "name": "python3"
  },
  "language_info": {
   "codemirror_mode": {
    "name": "ipython",
    "version": 3
   },
   "file_extension": ".py",
   "mimetype": "text/x-python",
   "name": "python",
   "nbconvert_exporter": "python",
   "pygments_lexer": "ipython3",
   "version": "3.6.5"
  }
 },
 "nbformat": 4,
 "nbformat_minor": 4
}
