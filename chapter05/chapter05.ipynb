{
 "cells": [
  {
   "cell_type": "markdown",
   "metadata": {},
   "source": [
    "## 問題40"
   ]
  },
  {
   "cell_type": "code",
   "execution_count": 2,
   "metadata": {},
   "outputs": [
    {
     "name": "stdout",
     "output_type": "stream",
     "text": [
      "名前名前名詞一般\n",
      "はは助詞係助詞\n",
      "まだまだ副詞助詞類接続\n",
      "無い無い形容詞自立\n",
      "。。記号句点\n"
     ]
    }
   ],
   "source": [
    "import CaboCha\n",
    "import re\n",
    "\n",
    "cabocha=CaboCha.Parser()\n",
    "with open('neko.txt','r',encoding='utf-8') as neko,open('neko.txt.cabocha','w',encoding='utf-8') as nekocabocha:\n",
    "    for line in neko.readlines():\n",
    "        nekocabocha.write(cabocha.parse(line).toString(CaboCha.FORMAT_LATTICE))\n",
    "\n",
    "class Morph:\n",
    "    def __init__(self,surface,base,pos,pos1):\n",
    "        self.surface=surface\n",
    "        self.base=base\n",
    "        self.pos=pos\n",
    "        self.pos1=pos1\n",
    "    def print_morph(self):\n",
    "        print(self.surface+self.base+self.pos+self.pos1)\n",
    "    def get_surface(self):\n",
    "        return self.surface\n",
    "    def get_base(self):\n",
    "        return self.base\n",
    "    def get_pos(self):\n",
    "        return self.pos\n",
    "    def get_pos1(self):\n",
    "        return self.pos1\n",
    "\n",
    "\n",
    "morph_lists=[]\n",
    "with open('neko.txt.cabocha','r',encoding='utf-8') as f:\n",
    "    morph_list=[]\n",
    "    for line in f.readlines():\n",
    "        if line !=\"EOS\\n\" and line[0]!=\"*\":\n",
    "            line=line.split('\\t')\n",
    "            surface=line[0]\n",
    "            line=line[1].split(',')\n",
    "            morph=Morph(surface,line[6],line[0],line[1])\n",
    "            morph_list.append(morph)\n",
    "        elif line==\"EOS\\n\" and morph_list:\n",
    "            morph_lists.append(morph_list)\n",
    "            morph_list=[]\n",
    "\n",
    "for morph in morph_lists[2]:\n",
    "    morph.print_morph()"
   ]
  },
  {
   "cell_type": "markdown",
   "metadata": {},
   "source": [
    "## 問題41"
   ]
  },
  {
   "cell_type": "code",
   "execution_count": 3,
   "metadata": {},
   "outputs": [
    {
     "name": "stdout",
     "output_type": "stream",
     "text": [
      "この,dst:1,srcs:0\n",
      "書生というのは,dst:7,srcs:1\n",
      "時々,dst:4,srcs:2\n",
      "我々を,dst:4,srcs:3\n",
      "捕えて,dst:5,srcs:4\n",
      "煮て,dst:6,srcs:5\n",
      "食うという,dst:7,srcs:6\n",
      "話である。,dst:-1,srcs:7\n"
     ]
    }
   ],
   "source": [
    "class Chunk:\n",
    "    def __init__(self,morphs,dst,srcs):\n",
    "        self.morphs=morphs\n",
    "        self.dst=dst\n",
    "        self.srcs=srcs\n",
    "    def add_morph(self,morph):\n",
    "        self.morphs.append(morph)\n",
    "    def get_allsurface(self):\n",
    "        str=\"\"\n",
    "        for i in self.morphs:\n",
    "            str=str+i.get_surface()\n",
    "        return str\n",
    "    def get_wordsurface(self):\n",
    "        return re.sub(r'[、。\\s]','',self.get_allsurface())\n",
    "    def get_dst(self):\n",
    "        return self.dst\n",
    "    def get_srcs(self):\n",
    "        return self.srcs\n",
    "    def check_noun(self):\n",
    "        flag=0\n",
    "        for morph in self.morphs:\n",
    "            if morph.get_pos()==\"名詞\":\n",
    "                flag=1\n",
    "        return flag\n",
    "    def check_verb(self):\n",
    "        flag=0\n",
    "        for morph in self.morphs:\n",
    "            if morph.get_pos()==\"動詞\":\n",
    "                flag=1\n",
    "        return flag\n",
    "    def get_noun(self):\n",
    "        ans=False\n",
    "        for morph in self.morphs:\n",
    "            if morph.get_pos()==\"名詞\":\n",
    "                ans=morph\n",
    "                break\n",
    "        return ans\n",
    "    def get_leftverb(self):\n",
    "        ans=False\n",
    "        for morph in self.morphs:\n",
    "            if morph.get_pos()==\"動詞\":\n",
    "                ans=morph\n",
    "                break\n",
    "        return ans\n",
    "    def get_allparticle(self):\n",
    "        ans=[]\n",
    "        for morph in self.morphs:\n",
    "            if morph.get_pos()==\"助詞\":\n",
    "                ans.append(morph)\n",
    "        return ans\n",
    "    def s_noun_and_wo(self):\n",
    "        ans=False\n",
    "        for i in range(len(self.morphs)-1):\n",
    "            if self.morphs[i].get_pos1()=='サ変接続' and self.morphs[i+1].get_pos()=='助詞' and self.morphs[i+1].get_surface()=='を':\n",
    "                ans=self.morphs[i].get_surface()+'を'\n",
    "        return ans\n",
    "\n",
    "morph_lists=[]\n",
    "chunk_lists=[]\n",
    "with open('neko.txt.cabocha','r',encoding='utf-8') as f:\n",
    "    morph_list=[]\n",
    "    chunk_list=[]\n",
    "    morphs=[]\n",
    "    chunk=Chunk([],-10,0)\n",
    "    for line in f.readlines():\n",
    "        if line !=\"EOS\\n\" and line[0]!=\"*\":\n",
    "            line=line.split('\\t')\n",
    "            surface=line[0]\n",
    "            line=line[1].split(',')\n",
    "            morph=Morph(surface,line[6],line[0],line[1])\n",
    "            morph_list.append(morph)\n",
    "            if int(chunk.get_dst())!=-10:\n",
    "                chunk.add_morph(morph)\n",
    "        elif line==\"EOS\\n\" and morph_list:\n",
    "            morph_lists.append(morph_list)\n",
    "            morph_list=[]\n",
    "            if int(chunk.get_dst())!=-10:\n",
    "                chunk_list.append(chunk)\n",
    "                chunk=Chunk([],-10,0)\n",
    "            chunk_lists.append(chunk_list)\n",
    "            chunk_list=[]\n",
    "        elif line[0]==\"*\":\n",
    "            if int(chunk.get_dst())!=-10:\n",
    "                chunk_list.append(chunk)\n",
    "                chunk=Chunk([],-10,0)\n",
    "            line=line.split(\"D\")[0]\n",
    "            line=line.split(\" \")\n",
    "            chunk=Chunk([],line[2],line[1])\n",
    "            \n",
    "for chunk in chunk_lists[7]:\n",
    "    if chunk.get_dst()!=-1:\n",
    "        print(chunk.get_allsurface()+\",dst:\"+str(chunk.get_dst())+\",srcs:\"+str(chunk.get_srcs()))\n"
   ]
  },
  {
   "cell_type": "markdown",
   "metadata": {},
   "source": [
    "## 問題42"
   ]
  },
  {
   "cell_type": "code",
   "execution_count": 4,
   "metadata": {},
   "outputs": [
    {
     "name": "stdout",
     "output_type": "stream",
     "text": [
      "この\t書生というのは\n",
      "書生というのは\t話である。\n",
      "時々\t捕えて\n",
      "我々を\t捕えて\n",
      "捕えて\t煮て\n",
      "煮て\t食うという\n",
      "食うという\t話である。\n"
     ]
    }
   ],
   "source": [
    "chunk_list=chunk_lists[7]\n",
    "for chunk in chunk_list:\n",
    "    if int(chunk.get_dst()) != -1:\n",
    "        chunk2=chunk_list[int(chunk.get_dst())]\n",
    "        print(chunk.get_allsurface()+\"\\t\"+chunk2.get_allsurface())"
   ]
  },
  {
   "cell_type": "markdown",
   "metadata": {},
   "source": [
    "## 問題43"
   ]
  },
  {
   "cell_type": "code",
   "execution_count": 5,
   "metadata": {},
   "outputs": [
    {
     "name": "stdout",
     "output_type": "stream",
     "text": [
      "我々を\t捕えて\n"
     ]
    }
   ],
   "source": [
    "chunk_list=chunk_lists[7]\n",
    "\n",
    "for chunk in chunk_list:\n",
    "    chunk2=chunk_list[int(chunk.get_dst())]\n",
    "    if chunk.check_noun() and chunk2.check_verb():\n",
    "        print(chunk.get_wordsurface()+\"\\t\"+chunk2.get_wordsurface())"
   ]
  },
  {
   "cell_type": "markdown",
   "metadata": {},
   "source": [
    "## 問題44"
   ]
  },
  {
   "cell_type": "code",
   "execution_count": 6,
   "metadata": {},
   "outputs": [
    {
     "data": {
      "image/png": "[encoded data removed]",
      "text/plain": [
       "<IPython.core.display.Image object>"
      ]
     },
     "execution_count": 6,
     "metadata": {},
     "output_type": "execute_result"
    }
   ],
   "source": [
    "import pydotplus\n",
    "from IPython.display import Image\n",
    "with open('44.dot','w',encoding='utf-8') as f:\n",
    "    f.write('digraph G {\\n')\n",
    "    f.write('graph [fontname = \\\"MS Gothic\\\"];\\n')\n",
    "    f.write('node [fontname = \\\"MS Gothic\\\"];\\n')\n",
    "    f.write('edge [fontname = \\\"MS Gothic\\\"];\\n')\n",
    "    for chunk in chunk_list:\n",
    "        chunk2=chunk_list[int(chunk.get_dst())]\n",
    "        if int(chunk.get_dst())!=-1:\n",
    "            f.write(\"\\\"\"+str(chunk.get_wordsurface())+\"\\\"\"+\" -> \"+\"\\\"\"+str(chunk2.get_wordsurface())+\"\\\"\\n\")\n",
    "        else:\n",
    "            f.write(\"\\\"\"+str(chunk.get_wordsurface())+\"\\\"\\n\")\n",
    "    f.write('}\\n')\n",
    "\n",
    "graph = pydotplus.graphviz.graph_from_dot_file('44.dot')\n",
    "graph.write_png('44.png')\n",
    "Image('44.png')"
   ]
  },
  {
   "cell_type": "markdown",
   "metadata": {},
   "source": [
    "## 問題45"
   ]
  },
  {
   "cell_type": "code",
   "execution_count": 7,
   "metadata": {},
   "outputs": [],
   "source": [
    "def verb_perticle(chunk_list):\n",
    "    sentence=\"\"\n",
    "    mark=\"verb:\"\n",
    "    for chunk in chunk_list[::-1]:\n",
    "        verb=chunk.get_leftverb()\n",
    "        if verb:\n",
    "            sentence=sentence+mark+verb.get_surface()+\"\\t\\n\"\n",
    "        if chunk_list[int(chunk.get_dst())].check_verb():\n",
    "            verb=chunk_list[int(chunk.get_dst())].get_leftverb()\n",
    "            for word in chunk.get_allparticle():\n",
    "                sentence=re.sub(r'(%s%s\\t)' % (mark,verb.get_surface()),r'\\1%s '% word.get_base(),sentence)\n",
    "    sentence=re.sub(r'%s.*?\\t\\n'% mark,'',sentence)\n",
    "    sentence=re.sub(mark,\"\",sentence)\n",
    "    return sentence\n",
    "\n",
    "sentence=\"\"\n",
    "for chunk_list in chunk_lists:\n",
    "    sentence=sentence+verb_perticle(chunk_list)\n",
    "\n",
    "with open('5-45.txt','w',encoding='utf-8') as f:\n",
    "    f.write(sentence)"
   ]
  },
  {
   "cell_type": "markdown",
   "metadata": {},
   "source": [
    "$ sort 5-45.txt|uniq -c|sort -rn |head -n10<br>\n",
    "    364 云う    と<br>\n",
    "    237 し      を<br>\n",
    "    121 思っ    と<br>\n",
    "    117 ある    が<br>\n",
    "    107 する    を<br>\n",
    "    101 見る    て<br>\n",
    "     96 し      に<br>\n",
    "     75 なっ    に<br>\n",
    "     69 見え    と<br>\n",
    "     67 思う    と<br>\n",
    "\n"
   ]
  },
  {
   "cell_type": "markdown",
   "metadata": {},
   "source": [
    "$ grep \"見る\" 5-45.txt |sort|uniq -c|sort -rn |head -n10<br>\n",
    "    101 見る    て<br>\n",
    "     39 見る    を<br>\n",
    "      9 見る    から<br>\n",
    "      7 見る    て て<br>\n",
    "      6 見る    で<br>\n",
    "      6 見る    て を<br>\n",
    "      4 見る    は て<br>\n",
    "      2 見る    は て を<br>\n",
    "      2 見る    は て て<br>\n",
    "      2 見る    ので て<br>"
   ]
  },
  {
   "cell_type": "markdown",
   "metadata": {},
   "source": [
    "$ grep \"する\" 5-45.txt |sort|uniq -c|sort -rn |head -n10<br>\n",
    "    107 する    を<br>\n",
    "     29 する    に<br>\n",
    "     27 する    が<br>\n",
    "     25 する    と<br>\n",
    "     23 する    て を<br>\n",
    "     20 する    て<br>\n",
    "     17 する    を に<br>\n",
    "     16 する    が を<br>\n",
    "     15 する    で<br>\n",
    "     14 する    と を<br>"
   ]
  },
  {
   "cell_type": "markdown",
   "metadata": {},
   "source": [
    "$ grep \"与える\" 5-45.txt |sort|uniq -c|sort -rn |head -n10<br>\n",
    "      2 与える  に を<br>\n",
    "      1 与える  は て に を<br>\n",
    "      1 与える  に を け<br>\n",
    "      1 与える  と か じゃあ は て を<br>\n",
    "      1 与える  て たり に を<br>\n",
    "      1 与える  けれども は に を<br>\n",
    "      1 与える  が を<br>\n",
    "      1 与える  が て は は と て に を から<br>"
   ]
  },
  {
   "cell_type": "markdown",
   "metadata": {},
   "source": [
    "## 問題46"
   ]
  },
  {
   "cell_type": "code",
   "execution_count": null,
   "metadata": {},
   "outputs": [],
   "source": [
    "def verb_perticle2(chunk_list):\n",
    "    sentence=\"\"\n",
    "    mark=\"verb:\"\n",
    "    for chunk in chunk_list[::-1]:\n",
    "        verb=chunk.get_leftverb()\n",
    "        if verb:\n",
    "            sentence=sentence+mark+verb.get_surface()+\"\\t\\t\\n\"\n",
    "        perticle_list=chunk.get_allparticle()\n",
    "        if perticle_list and chunk_list[int(chunk.get_dst())].check_verb():\n",
    "            verb=chunk_list[int(chunk.get_dst())].get_leftverb()\n",
    "            for word in perticle_list:\n",
    "                sentence=re.sub(r'(%s%s\\t)' % (mark,verb.get_surface()),r'\\1%s '% word.get_base(),sentence)\n",
    "            sentence=re.sub(r'(%s%s\\t.*\\t)' % (mark,verb.get_surface()),r'\\1%s '% chunk.get_wordsurface(),sentence)\n",
    "    sentence=re.sub(r'%s.*?\\t\\n'% mark,'',sentence)\n",
    "    sentence=re.sub(mark,\"\",sentence)\n",
    "    return sentence\n",
    "\n",
    "sentence=\"\"\n",
    "for chunk_list in chunk_lists:\n",
    "    sentence=sentence+verb_perticle2(chunk_list)\n",
    "\n",
    "with open('5-46.txt','w',encoding='utf-8') as f:\n",
    "    f.write(sentence)"
   ]
  },
  {
   "cell_type": "markdown",
   "metadata": {},
   "source": [
    "$ head 5-46.txt<br>\n",
    "つか    か が   生れたか 見当が<br>\n",
    "生れ    で      　どこで<br>\n",
    "し      て は だけ て   泣いて いた事だけは 記憶している<br>\n",
    "泣い    で      所で<br>\n",
    "見      は を   吾輩は ものを<br>\n",
    "始め    で      ここで<br>\n",
    "聞く    で      あとで<br>\n",
    "食う    て      煮て<br>\n",
    "煮      て      捕えて<br>\n",
    "捕え    を      我々を<br>"
   ]
  },
  {
   "cell_type": "markdown",
   "metadata": {},
   "source": [
    "## 問題47"
   ]
  },
  {
   "cell_type": "code",
   "execution_count": 12,
   "metadata": {},
   "outputs": [
    {
     "name": "stdout",
     "output_type": "stream",
     "text": [
      "決心をする\tと \tこうと \n",
      "返報をする\tんで \t偸んで \n",
      "昼寝を昼寝をする\tが \t彼が \n",
      "迫害を加える\tて \t追い廻して \n",
      "生活をする\tを て は に を が \tこれを 戦って するには 愛を 我等猫族が \n",
      "話をする\tで が から \t我儘で 主人が 思い出したから \n",
      "投書をする\tへ て \tほととぎすへ やって \n",
      "話をする\tに \t時に \n",
      "写生を昼寝をする\tて \t出て \n",
      "彩色を欠伸をする\tて て の へ を て から \t押し出して して 存分の 前へ 両足を 失敬して なったから \n",
      "報道をする\tに くらい も \t耳に くらいなら 我儘も \n",
      "挨拶を御馳走を食う\tと \t見ると \n",
      "問答を雑談をする\tの て で は と て ながら は の \t下のごとく 向って あとで 彼は していると 寝転びながら 黒は 例のごとく \n",
      "自慢をする\tて に を て \t鳴らして 感心したように 気焔を あって \n",
      "呼吸を飲み込む\tから て \tなってから \n"
     ]
    }
   ],
   "source": [
    "def verb_perticle3(chunk_list):\n",
    "    sentence=\"\"\n",
    "    mark=\"verb:\"\n",
    "    for chunk in chunk_list:\n",
    "        verb=chunk_list[int(chunk.get_dst())].get_leftverb()\n",
    "        if verb:\n",
    "            tmp=chunk.s_noun_and_wo()\n",
    "            if tmp:\n",
    "                sentence=sentence+tmp+mark+verb.get_base()+\"\\t\\t\\n\"\n",
    "    for chunk in chunk_list:\n",
    "        perticle_list=chunk.get_allparticle()\n",
    "        if perticle_list and not chunk.s_noun_and_wo() and chunk_list[int(chunk.get_dst())].check_verb():\n",
    "            verb=chunk_list[int(chunk.get_dst())].get_leftverb()\n",
    "            for word in perticle_list:\n",
    "                sentence=re.sub(r'(%s%s\\t)' % (mark,verb.get_base()),r'\\1%s '% word.get_base(),sentence)\n",
    "            sentence=re.sub(r'(%s%s\\t.*\\t)' % (mark,verb.get_base()),r'\\1%s '% chunk.get_wordsurface(),sentence)\n",
    "    sentence=re.sub(r'%s.*?\\t\\n'% mark,'',sentence)\n",
    "    sentence=re.sub(mark,\"\",sentence)\n",
    "    return sentence\n",
    "\n",
    "sentence=\"\"\n",
    "for chunk_list in chunk_lists:\n",
    "    sentence=sentence+verb_perticle3(chunk_list)\n",
    "\n",
    "with open('5-47.txt','w',encoding='utf-8') as f:\n",
    "    f.write(sentence)\n",
    "with open('5-47.txt','r',encoding='utf-8') as f:\n",
    "    for line in f.readlines()[:15:]:\n",
    "        print(line,end=\"\")"
   ]
  },
  {
   "cell_type": "markdown",
   "metadata": {},
   "source": [
    "$ cat 5-47.txt|cut -f 1 |sort|uniq -c|sort -rn|head<br>\n",
    "     23 返事をする<br>\n",
    "     16 挨拶をする<br>\n",
    "      9 話をする<br>\n",
    "      6 質問をする<br>\n",
    "      6 喧嘩をする<br>\n",
    "      5 運動をする<br>\n",
    "      5 真似をする<br>\n",
    "      5 相談をする<br>\n",
    "      4 降参をする<br>\n",
    "      4 質問をかける<br>"
   ]
  },
  {
   "cell_type": "markdown",
   "metadata": {},
   "source": [
    "$ cat 5-47.txt|cut -f 1,2|sort|uniq -c|sort -rn|head<br>\n",
    "      3 返事をする      と<br>\n",
    "      3 挨拶をする      と<br>\n",
    "      2 返事をする      と は<br>\n",
    "      2 講釈をする      ね て は に も て か<br>\n",
    "      2 放蕩をする      も より が から<br>\n",
    "      2 挨拶をする      から<br>\n",
    "      2 喧嘩をする      と<br>\n",
    "      2 同情を表する    て は と<br>\n",
    "      1 食事を支度をする        と よ と よ<br>\n",
    "      1 鞭撻を加える    て ば は て て から<br>"
   ]
  },
  {
   "cell_type": "markdown",
   "metadata": {},
   "source": [
    "## 問題48"
   ]
  },
  {
   "cell_type": "code",
   "execution_count": 13,
   "metadata": {},
   "outputs": [
    {
     "name": "stdout",
     "output_type": "stream",
     "text": [
      "一\n",
      "\n",
      "吾輩は -> 猫である\n",
      "猫である\n",
      "\n",
      "名前は -> 無い\n",
      "\n",
      "どこで -> 生れたか -> つかぬ\n",
      "見当が -> つかぬ\n",
      "\n",
      "何でも -> 薄暗い -> 所で -> 泣いて -> 記憶している\n",
      "所で -> 泣いて -> 記憶している\n",
      "ニャーニャー -> 泣いて -> 記憶している\n",
      "いた事だけは -> 記憶している\n",
      "記憶している\n",
      "\n",
      "吾輩は -> 見た\n",
      "ここで -> 始めて -> 人間という -> ものを -> 見た\n",
      "人間という -> ものを -> 見た\n",
      "ものを -> 見た\n",
      "\n",
      "あとで -> 聞くと -> 種族であったそうだ\n",
      "それは -> 種族であったそうだ\n",
      "書生という -> 人間中で -> 種族であったそうだ\n",
      "人間中で -> 種族であったそうだ\n",
      "一番 -> 獰悪な -> 種族であったそうだ\n",
      "獰悪な -> 種族であったそうだ\n",
      "種族であったそうだ\n",
      "\n",
      "書生というのは -> 話である\n",
      "我々を -> 捕えて -> 煮て -> 食うという -> 話である\n",
      "話である\n",
      "\n",
      "当時は -> なかったから -> 思わなかった\n",
      "何という -> 考も -> なかったから -> 思わなかった\n",
      "考も -> なかったから -> 思わなかった\n",
      "\n",
      "彼の -> 掌に -> 載せられて -> 持ち上げられた -> 時 -> フワフワした -> 感じが -> あったばかりである\n",
      "掌に -> 載せられて -> 持ち上げられた -> 時 -> フワフワした -> 感じが -> あったばかりである\n",
      "スーと -> 持ち上げられた -> 時 -> フワフワした -> 感じが -> あったばかりである\n",
      "時 -> フワフワした -> 感じが -> あったばかりである\n",
      "感じが -> あったばかりである\n",
      "\n",
      "\n"
     ]
    }
   ],
   "source": [
    "def noun_path(chunk_list):\n",
    "    sentence=\"\"\n",
    "    for chunk in chunk_list:\n",
    "        if chunk.check_noun():\n",
    "            sentence=sentence+chunk.get_wordsurface()\n",
    "            tmp=chunk\n",
    "            while int(tmp.get_dst())!=-1:\n",
    "                tmp=chunk_list[int(tmp.get_dst())]\n",
    "                sentence=sentence+\" -> \"+tmp.get_wordsurface()\n",
    "            sentence=sentence+\"\\n\"\n",
    "    return sentence\n",
    "\n",
    "sentence=\"\"\n",
    "for chunk_list in chunk_lists[:10:]:\n",
    "    sentence=sentence+noun_path(chunk_list)+\"\\n\"\n",
    "\n",
    "for line in sentence.split('\\n')[:100:]:\n",
    "    print(line)"
   ]
  },
  {
   "cell_type": "markdown",
   "metadata": {},
   "source": [
    "## 問題49"
   ]
  },
  {
   "cell_type": "code",
   "execution_count": 14,
   "metadata": {},
   "outputs": [
    {
     "name": "stdout",
     "output_type": "stream",
     "text": [
      "Xは |Yで-> 始めて -> 人間という -> ものを | 見た\n",
      "Xは |Yという-> ものを | 見た\n",
      "Xは |Yを| 見た\n",
      "Xで-> 始めて  -> Yという\n",
      "Xで-> 始めて -> 人間という  -> Yを\n",
      "Xという -> Yを\n",
      "\n"
     ]
    }
   ],
   "source": [
    "def noun_unit(chunk_list):\n",
    "    noun_unit=\"\"\n",
    "    for i,chunk in enumerate(chunk_list):\n",
    "        x=chunk.get_noun()\n",
    "        if x:\n",
    "            for chunk2 in chunk_list[i+1::]:\n",
    "                y=chunk2.get_noun()\n",
    "                if y:\n",
    "                    tmp=re.sub(x.get_surface(),\"X\",chunk.get_wordsurface())+\"|\"+re.sub(y.get_surface(),\"Y\",chunk2.get_wordsurface())+\"|\"\n",
    "                    tmp_1=chunk\n",
    "                    tmp_2=chunk2\n",
    "                    flag=False\n",
    "                    while int(tmp_1.get_dst())!=-1 or int(tmp_2.get_dst())!=-1:\n",
    "                        if int(tmp_1.get_dst()) > int(tmp_2.get_dst()) or int(tmp_1.get_dst())==-1:\n",
    "                            tmp_2=chunk_list[int(tmp_2.get_dst())]\n",
    "                            if tmp_1==tmp_2:\n",
    "                                flag=True\n",
    "                                break\n",
    "                            tmp=re.sub(r'([^\\|]*\\|[^\\|]*)(\\|[^\\|]*)',r'\\1%s%s \\2' % (\"-> \",tmp_2.get_wordsurface()),tmp)\n",
    "                        else:\n",
    "                            tmp_1=chunk_list[int(tmp_1.get_dst())]\n",
    "                            if tmp_1==tmp_2:\n",
    "                                flag=True\n",
    "                                break\n",
    "                            tmp=re.sub(r'([^\\|]*)(\\|[^\\|]*\\|[^\\|]*)',r'\\1%s%s \\2' % (\"-> \",tmp_1.get_wordsurface()),tmp)\n",
    "                    if flag:\n",
    "                        tmp=re.sub(r'-> %s' % tmp_1.get_wordsurface(),\"\",tmp)\n",
    "                        if tmp_2==chunk2:\n",
    "                            tmp=re.sub(r'([^\\|]*)\\|([^\\|]*)\\|',r'\\1 %s \\2'%\"->\",tmp)\n",
    "                        else:\n",
    "                            tmp=re.sub(r'([^\\|]*\\|[^\\|]*\\|)',r'\\1 %s'% tmp_1.get_wordsurface(),tmp)\n",
    "                        noun_unit=noun_unit+tmp+\"\\n\"\n",
    "    return noun_unit\n",
    "\n",
    "print(noun_unit(chunk_lists[5]))\n"
   ]
  }
 ],
 "metadata": {
  "kernelspec": {
   "display_name": "Python 3",
   "language": "python",
   "name": "python3"
  },
  "language_info": {
   "codemirror_mode": {
    "name": "ipython",
    "version": 3
   },
   "file_extension": ".py",
   "mimetype": "text/x-python",
   "name": "python",
   "nbconvert_exporter": "python",
   "pygments_lexer": "ipython3",
   "version": "3.7.4"
  }
 },
 "nbformat": 4,
 "nbformat_minor": 4
}
