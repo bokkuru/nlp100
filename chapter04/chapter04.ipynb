{
 "cells": [
  {
   "cell_type": "markdown",
   "metadata": {},
   "source": [
    "## 問題30"
   ]
  },
  {
   "cell_type": "code",
   "execution_count": 2,
   "metadata": {},
   "outputs": [
    {
     "name": "stdout",
     "output_type": "stream",
     "text": [
      "[{'surface': '一', 'base': '一', 'pos': '名詞', 'pos1': '数'}]\n",
      "[{'surface': '\\u3000', 'base': '\\u3000', 'pos': '記号', 'pos1': '空白'}, {'surface': '吾輩', 'base': '吾輩', 'pos': '名詞', 'pos1': '代名詞'}, {'surface': 'は', 'base': 'は', 'pos': '助詞', 'pos1': '係助詞'}, {'surface': '猫', 'base': '猫', 'pos': '名詞', 'pos1': '一般'}, {'surface': 'で', 'base': 'だ', 'pos': '助動詞', 'pos1': '*'}, {'surface': 'ある', 'base': 'ある', 'pos': '助動詞', 'pos1': '*'}, {'surface': '。', 'base': '。', 'pos': '記号', 'pos1': '句点'}]\n",
      "[{'surface': '名前', 'base': '名前', 'pos': '名詞', 'pos1': '一般'}, {'surface': 'は', 'base': 'は', 'pos': '助詞', 'pos1': '係助詞'}, {'surface': 'まだ', 'base': 'まだ', 'pos': '副詞', 'pos1': '助詞類接続'}, {'surface': '無い', 'base': '無い', 'pos': '形容詞', 'pos1': '自立'}, {'surface': '。', 'base': '。', 'pos': '記号', 'pos1': '句点'}]\n",
      "[{'surface': '\\u3000', 'base': '\\u3000', 'pos': '記号', 'pos1': '空白'}, {'surface': 'どこ', 'base': 'どこ', 'pos': '名詞', 'pos1': '代名詞'}, {'surface': 'で', 'base': 'で', 'pos': '助詞', 'pos1': '格助詞'}, {'surface': '生れ', 'base': '生れる', 'pos': '動詞', 'pos1': '自立'}, {'surface': 'た', 'base': 'た', 'pos': '助動詞', 'pos1': '*'}, {'surface': 'か', 'base': 'か', 'pos': '助詞', 'pos1': '副助詞／並立助詞／終助詞'}, {'surface': 'とんと', 'base': 'とんと', 'pos': '副詞', 'pos1': '一般'}, {'surface': '見当', 'base': '見当', 'pos': '名詞', 'pos1': 'サ変接続'}, {'surface': 'が', 'base': 'が', 'pos': '助詞', 'pos1': '格助詞'}, {'surface': 'つか', 'base': 'つく', 'pos': '動詞', 'pos1': '自立'}, {'surface': 'ぬ', 'base': 'ぬ', 'pos': '助動詞', 'pos1': '*'}, {'surface': '。', 'base': '。', 'pos': '記号', 'pos1': '句点'}]\n",
      "[{'surface': '何', 'base': '何', 'pos': '名詞', 'pos1': '代名詞'}, {'surface': 'でも', 'base': 'でも', 'pos': '助詞', 'pos1': '副助詞'}, {'surface': '薄暗い', 'base': '薄暗い', 'pos': '形容詞', 'pos1': '自立'}, {'surface': 'じめじめ', 'base': 'じめじめ', 'pos': '副詞', 'pos1': '一般'}, {'surface': 'し', 'base': 'する', 'pos': '動詞', 'pos1': '自立'}, {'surface': 'た', 'base': 'た', 'pos': '助動詞', 'pos1': '*'}, {'surface': '所', 'base': '所', 'pos': '名詞', 'pos1': '非自立'}, {'surface': 'で', 'base': 'で', 'pos': '助詞', 'pos1': '格助詞'}, {'surface': 'ニャーニャー', 'base': '*\\n', 'pos': '名詞', 'pos1': '一般'}, {'surface': '泣い', 'base': '泣く', 'pos': '動詞', 'pos1': '自立'}, {'surface': 'て', 'base': 'て', 'pos': '助詞', 'pos1': '接続助詞'}, {'surface': 'いた事', 'base': 'いた事', 'pos': '名詞', 'pos1': '一般'}, {'surface': 'だけ', 'base': 'だけ', 'pos': '助詞', 'pos1': '副助詞'}, {'surface': 'は', 'base': 'は', 'pos': '助詞', 'pos1': '係助詞'}, {'surface': '記憶', 'base': '記憶', 'pos': '名詞', 'pos1': 'サ変接続'}, {'surface': 'し', 'base': 'する', 'pos': '動詞', 'pos1': '自立'}, {'surface': 'て', 'base': 'て', 'pos': '助詞', 'pos1': '接続助詞'}, {'surface': 'いる', 'base': 'いる', 'pos': '動詞', 'pos1': '非自立'}, {'surface': '。', 'base': '。', 'pos': '記号', 'pos1': '句点'}]\n"
     ]
    }
   ],
   "source": [
    "import MeCab\n",
    "mecab=MeCab.Tagger()\n",
    "with open('neko.txt','r',encoding='utf-8') as neko,open('neko.txt.mecab','w',encoding='utf-8') as nekomecab:\n",
    "    for line in neko.readlines():\n",
    "        nekomecab.write(mecab.parse(line))\n",
    "\n",
    "neko_mecab=[]\n",
    "with open('neko.txt.mecab','r',encoding='utf-8') as neko:\n",
    "    neko_sentence=[]\n",
    "    for line in neko.readlines():\n",
    "        if line != 'EOS\\n':\n",
    "            morph={'surface': '', 'base': '','pos': '','pos1':''}\n",
    "            line=line.split('\\t')\n",
    "            morph['surface']=line[0]\n",
    "            lines=line[1].split(',')\n",
    "            morph['base']=lines[6]\n",
    "            morph['pos']=lines[0]\n",
    "            morph['pos1']=lines[1]\n",
    "            neko_sentence.append(morph)\n",
    "        elif neko_sentence:\n",
    "            neko_mecab.append(neko_sentence)\n",
    "            neko_sentence=[]\n",
    "for i in range(5):\n",
    "    print(neko_mecab[i])"
   ]
  },
  {
   "cell_type": "markdown",
   "metadata": {},
   "source": [
    "## 問題31"
   ]
  },
  {
   "cell_type": "code",
   "execution_count": 3,
   "metadata": {},
   "outputs": [
    {
     "name": "stdout",
     "output_type": "stream",
     "text": [
      "生れ\n",
      "つか\n",
      "し\n",
      "泣い\n",
      "し\n",
      "いる\n",
      "始め\n",
      "見\n",
      "聞く\n",
      "捕え\n",
      "28905\n"
     ]
    }
   ],
   "source": [
    "verb_surface=[]\n",
    "for neko_sentence in neko_mecab:\n",
    "    for word in neko_sentence:\n",
    "        if word['pos']=='動詞':\n",
    "            verb_surface.append(word['surface'])\n",
    "for i in range(10):\n",
    "    print(verb_surface[i])\n",
    "print(len(verb_surface))"
   ]
  },
  {
   "cell_type": "markdown",
   "metadata": {},
   "source": [
    "## 問題32"
   ]
  },
  {
   "cell_type": "code",
   "execution_count": 4,
   "metadata": {},
   "outputs": [
    {
     "name": "stdout",
     "output_type": "stream",
     "text": [
      "生れる\n",
      "つく\n",
      "する\n",
      "泣く\n",
      "する\n",
      "いる\n",
      "始める\n",
      "見る\n",
      "聞く\n",
      "捕える\n",
      "28905\n"
     ]
    }
   ],
   "source": [
    "verb_base=[]\n",
    "for neko_sentence in neko_mecab:\n",
    "    for word in neko_sentence:\n",
    "        if word['pos']=='動詞':\n",
    "            verb_base.append(word['base'])\n",
    "for i in range(10):\n",
    "    print(verb_base[i])\n",
    "print(len(verb_base))"
   ]
  },
  {
   "cell_type": "markdown",
   "metadata": {},
   "source": [
    "## 問題33"
   ]
  },
  {
   "cell_type": "code",
   "execution_count": 5,
   "metadata": {},
   "outputs": [
    {
     "name": "stdout",
     "output_type": "stream",
     "text": [
      "彼の掌\n",
      "掌の上\n",
      "書生の顔\n",
      "はずの顔\n",
      "顔の真中\n",
      "穴の中\n",
      "書生の掌\n",
      "掌の裏\n",
      "何の事\n",
      "肝心の母親\n"
     ]
    }
   ],
   "source": [
    "noun_add=[]\n",
    "for neko_sentence in neko_mecab:\n",
    "    for i in range(len(neko_sentence)-2):\n",
    "        if neko_sentence[i]['pos']=='名詞' and neko_sentence[i+1]['surface']=='の' and neko_sentence[i+2]['pos']=='名詞':\n",
    "            noun_add.append(neko_sentence[i]['surface']+neko_sentence[i+1]['surface']+neko_sentence[i+2]['surface'])\n",
    "            i=i+2\n",
    "for i in range(10):\n",
    "    print(noun_add[i])"
   ]
  },
  {
   "cell_type": "markdown",
   "metadata": {},
   "source": [
    "## 問題34"
   ]
  },
  {
   "cell_type": "code",
   "execution_count": 6,
   "metadata": {},
   "outputs": [
    {
     "name": "stdout",
     "output_type": "stream",
     "text": [
      "人間中\n",
      "一番獰悪\n",
      "時妙\n",
      "一毛\n",
      "その後猫\n"
     ]
    }
   ],
   "source": [
    "noun_unit=[]\n",
    "unit=[]\n",
    "for neko_sentence in neko_mecab:\n",
    "    for line in neko_sentence:\n",
    "        if line['pos'] == '名詞':\n",
    "            unit.append(line['surface'])\n",
    "        elif len(unit)>1:\n",
    "            tmp2=''\n",
    "            for tmp in unit:\n",
    "                tmp2=tmp2+tmp \n",
    "            noun_unit.append(tmp2)\n",
    "            unit=[]\n",
    "        else:\n",
    "            unit=[]\n",
    "for i in range(5):\n",
    "    print(noun_unit[i])"
   ]
  },
  {
   "cell_type": "markdown",
   "metadata": {},
   "source": [
    "## 問題35"
   ]
  },
  {
   "cell_type": "code",
   "execution_count": 7,
   "metadata": {},
   "outputs": [
    {
     "name": "stdout",
     "output_type": "stream",
     "text": [
      "('の', 9194)\n",
      "('。', 7486)\n",
      "('て', 6868)\n",
      "('、', 6772)\n",
      "('は', 6420)\n",
      "('に', 6243)\n",
      "('を', 6071)\n",
      "('と', 5508)\n",
      "('が', 5337)\n",
      "('た', 3988)\n"
     ]
    }
   ],
   "source": [
    "word_count={}\n",
    "for neko_sentence in neko_mecab:\n",
    "    for word in neko_sentence:\n",
    "        word_count.setdefault(word['surface'],0)\n",
    "        word_count[word['surface']]+=1\n",
    "word_count=sorted(word_count.items(), key= lambda x:x[1],reverse=True)\n",
    "for i in range(10):\n",
    "    print(word_count[i])\n"
   ]
  },
  {
   "cell_type": "markdown",
   "metadata": {},
   "source": [
    "## 問題36"
   ]
  },
  {
   "cell_type": "code",
   "execution_count": 14,
   "metadata": {},
   "outputs": [
    {
     "data": {
      "image/png": "[encoded data removed]",
      "text/plain": [
       "<Figure size 432x288 with 1 Axes>"
      ]
     },
     "metadata": {
      "needs_background": "light"
     },
     "output_type": "display_data"
    }
   ],
   "source": [
    "import numpy as np\n",
    "import matplotlib.pyplot as plt\n",
    "\n",
    "name=[]\n",
    "value=[]\n",
    "for i in range(10):\n",
    "    name.append(word_count[i][0])\n",
    "    value.append(word_count[i][1])\n",
    "plt.bar(name,value)\n",
    "plt.show()\n"
   ]
  },
  {
   "cell_type": "markdown",
   "metadata": {},
   "source": [
    "## 問題37"
   ]
  },
  {
   "cell_type": "code",
   "execution_count": 10,
   "metadata": {},
   "outputs": [
    {
     "name": "stdout",
     "output_type": "stream",
     "text": [
      "('の', 391)\n",
      "('は', 272)\n",
      "('、', 252)\n",
      "('に', 250)\n",
      "('を', 232)\n",
      "('て', 229)\n",
      "('。', 209)\n",
      "('と', 202)\n",
      "('が', 180)\n",
      "('で', 170)\n"
     ]
    },
    {
     "data": {
      "image/png": "[encoded data removed]",
      "text/plain": [
       "<Figure size 432x288 with 1 Axes>"
      ]
     },
     "metadata": {
      "needs_background": "light"
     },
     "output_type": "display_data"
    }
   ],
   "source": [
    "cat_num={}\n",
    "for neko_sentence in neko_mecab:\n",
    "    frag=0\n",
    "    words=[]\n",
    "    for word in neko_sentence:\n",
    "        if word['surface'] == '猫' and not frag:\n",
    "            for tmp in words:\n",
    "                cat_num.setdefault(tmp,0)\n",
    "                cat_num[tmp]+=1\n",
    "            frag=1\n",
    "        elif frag:\n",
    "            cat_num.setdefault(word['surface'],0)\n",
    "            cat_num[word['surface']]+=1\n",
    "        else:\n",
    "            words.append(word['surface'])\n",
    "cat_num=sorted(cat_num.items(),key= lambda x:x[1],reverse=True)\n",
    "name=[]\n",
    "value=[]\n",
    "for i in range(10):\n",
    "    print(cat_num[i])\n",
    "    name.append(cat_num[i][0])\n",
    "    value.append(cat_num[i][1])\n",
    "plt.bar(name,value)\n",
    "plt.show()\n"
   ]
  },
  {
   "cell_type": "markdown",
   "metadata": {},
   "source": [
    "## 問題38"
   ]
  },
  {
   "cell_type": "code",
   "execution_count": 12,
   "metadata": {},
   "outputs": [
    {
     "data": {
      "image/png": "[encoded data removed]",
      "text/plain": [
       "<Figure size 432x288 with 1 Axes>"
      ]
     },
     "metadata": {
      "needs_background": "light"
     },
     "output_type": "display_data"
    }
   ],
   "source": [
    "values=[]\n",
    "for key,value in word_count:\n",
    "    values.append(value)\n",
    "\n",
    "plt.hist(values,bins=100,range=(1,100))\n",
    "plt.show()\n"
   ]
  },
  {
   "cell_type": "markdown",
   "metadata": {},
   "source": [
    "## 問題39"
   ]
  },
  {
   "cell_type": "code",
   "execution_count": 13,
   "metadata": {},
   "outputs": [
    {
     "data": {
      "image/png": "[encoded data removed]",
      "text/plain": [
       "<Figure size 432x288 with 1 Axes>"
      ]
     },
     "metadata": {
      "needs_background": "light"
     },
     "output_type": "display_data"
    }
   ],
   "source": [
    "word_num=[]\n",
    "word_rank=[]\n",
    "for i,value in enumerate([x[1] for x in word_count]):\n",
    "    word_num.append(value)\n",
    "    word_rank.append(i)\n",
    "\n",
    "plt.plot(word_rank,word_num)\n",
    "plt.xscale('log')\n",
    "plt.yscale('log')\n",
    "plt.show()"
   ]
  }
 ],
 "metadata": {
  "kernelspec": {
   "display_name": "Python 3",
   "language": "python",
   "name": "python3"
  },
  "language_info": {
   "codemirror_mode": {
    "name": "ipython",
    "version": 3
   },
   "file_extension": ".py",
   "mimetype": "text/x-python",
   "name": "python",
   "nbconvert_exporter": "python",
   "pygments_lexer": "ipython3",
   "version": "3.7.4"
  }
 },
 "nbformat": 4,
 "nbformat_minor": 4
}
